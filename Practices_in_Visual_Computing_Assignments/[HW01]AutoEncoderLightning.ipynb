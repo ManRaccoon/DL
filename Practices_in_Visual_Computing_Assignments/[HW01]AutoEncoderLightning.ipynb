{
  "cells": [
    {
      "cell_type": "markdown",
      "metadata": {
        "id": "-_aeV4lfqEzO"
      },
      "source": [
        "---\n",
        "\n",
        "## [HW01] AutoEncoderLightning\n",
        "\n",
        "\n",
        "`[HW01] Autoencoder`에서 진행한 내용을 [PyTorch Lightning](https://lightning.ai/docs/pytorch/stable/)을 이용해 재구현하도록 한다.\n",
        "\n",
        "- PyTorch Lightning은 반복적인 코드를 줄이고, 더 깔끔하고 구조화된 방식으로 딥러닝 모델을 개발할 수 있도록 도와주는 프레임워크이다.\n",
        "- 사용 방법은 [여기](https://lightning.ai/docs/pytorch/stable/starter/introduction.html)를 참고하도록 하자.\n",
        "\n",
        "---"
      ]
    },
    {
      "cell_type": "markdown",
      "metadata": {
        "id": "DAZCzDNKrKHT"
      },
      "source": [
        "# PyTorch Lightning 설치"
      ]
    },
    {
      "cell_type": "code",
      "execution_count": 1,
      "metadata": {
        "colab": {
          "base_uri": "https://localhost:8080/"
        },
        "id": "6l6QMYI7rNFY",
        "outputId": "c4d7e08e-39bd-4461-aad7-2bd6e7b92fb2"
      },
      "outputs": [
        {
          "name": "stdout",
          "output_type": "stream",
          "text": [
            "Collecting lightning\n",
            "  Downloading lightning-2.5.1-py3-none-any.whl.metadata (39 kB)\n",
            "Requirement already satisfied: PyYAML<8.0,>=5.4 in /usr/local/lib/python3.11/dist-packages (from lightning) (6.0.2)\n",
            "Requirement already satisfied: fsspec<2026.0,>=2022.5.0 in /usr/local/lib/python3.11/dist-packages (from fsspec[http]<2026.0,>=2022.5.0->lightning) (2025.3.0)\n",
            "Collecting lightning-utilities<2.0,>=0.10.0 (from lightning)\n",
            "  Downloading lightning_utilities-0.14.2-py3-none-any.whl.metadata (5.6 kB)\n",
            "Requirement already satisfied: packaging<25.0,>=20.0 in /usr/local/lib/python3.11/dist-packages (from lightning) (24.2)\n",
            "Requirement already satisfied: torch<4.0,>=2.1.0 in /usr/local/lib/python3.11/dist-packages (from lightning) (2.6.0+cu124)\n",
            "Collecting torchmetrics<3.0,>=0.7.0 (from lightning)\n",
            "  Downloading torchmetrics-1.7.0-py3-none-any.whl.metadata (21 kB)\n",
            "Requirement already satisfied: tqdm<6.0,>=4.57.0 in /usr/local/lib/python3.11/dist-packages (from lightning) (4.67.1)\n",
            "Requirement already satisfied: typing-extensions<6.0,>=4.4.0 in /usr/local/lib/python3.11/dist-packages (from lightning) (4.13.0)\n",
            "Collecting pytorch-lightning (from lightning)\n",
            "  Downloading pytorch_lightning-2.5.1-py3-none-any.whl.metadata (20 kB)\n",
            "Requirement already satisfied: aiohttp!=4.0.0a0,!=4.0.0a1 in /usr/local/lib/python3.11/dist-packages (from fsspec[http]<2026.0,>=2022.5.0->lightning) (3.11.14)\n",
            "Requirement already satisfied: setuptools in /usr/local/lib/python3.11/dist-packages (from lightning-utilities<2.0,>=0.10.0->lightning) (75.2.0)\n",
            "Requirement already satisfied: filelock in /usr/local/lib/python3.11/dist-packages (from torch<4.0,>=2.1.0->lightning) (3.18.0)\n",
            "Requirement already satisfied: networkx in /usr/local/lib/python3.11/dist-packages (from torch<4.0,>=2.1.0->lightning) (3.4.2)\n",
            "Requirement already satisfied: jinja2 in /usr/local/lib/python3.11/dist-packages (from torch<4.0,>=2.1.0->lightning) (3.1.6)\n",
            "Collecting nvidia-cuda-nvrtc-cu12==12.4.127 (from torch<4.0,>=2.1.0->lightning)\n",
            "  Downloading nvidia_cuda_nvrtc_cu12-12.4.127-py3-none-manylinux2014_x86_64.whl.metadata (1.5 kB)\n",
            "Collecting nvidia-cuda-runtime-cu12==12.4.127 (from torch<4.0,>=2.1.0->lightning)\n",
            "  Downloading nvidia_cuda_runtime_cu12-12.4.127-py3-none-manylinux2014_x86_64.whl.metadata (1.5 kB)\n",
            "Collecting nvidia-cuda-cupti-cu12==12.4.127 (from torch<4.0,>=2.1.0->lightning)\n",
            "  Downloading nvidia_cuda_cupti_cu12-12.4.127-py3-none-manylinux2014_x86_64.whl.metadata (1.6 kB)\n",
            "Collecting nvidia-cudnn-cu12==9.1.0.70 (from torch<4.0,>=2.1.0->lightning)\n",
            "  Downloading nvidia_cudnn_cu12-9.1.0.70-py3-none-manylinux2014_x86_64.whl.metadata (1.6 kB)\n",
            "Collecting nvidia-cublas-cu12==12.4.5.8 (from torch<4.0,>=2.1.0->lightning)\n",
            "  Downloading nvidia_cublas_cu12-12.4.5.8-py3-none-manylinux2014_x86_64.whl.metadata (1.5 kB)\n",
            "Collecting nvidia-cufft-cu12==11.2.1.3 (from torch<4.0,>=2.1.0->lightning)\n",
            "  Downloading nvidia_cufft_cu12-11.2.1.3-py3-none-manylinux2014_x86_64.whl.metadata (1.5 kB)\n",
            "Collecting nvidia-curand-cu12==10.3.5.147 (from torch<4.0,>=2.1.0->lightning)\n",
            "  Downloading nvidia_curand_cu12-10.3.5.147-py3-none-manylinux2014_x86_64.whl.metadata (1.5 kB)\n",
            "Collecting nvidia-cusolver-cu12==11.6.1.9 (from torch<4.0,>=2.1.0->lightning)\n",
            "  Downloading nvidia_cusolver_cu12-11.6.1.9-py3-none-manylinux2014_x86_64.whl.metadata (1.6 kB)\n",
            "Collecting nvidia-cusparse-cu12==12.3.1.170 (from torch<4.0,>=2.1.0->lightning)\n",
            "  Downloading nvidia_cusparse_cu12-12.3.1.170-py3-none-manylinux2014_x86_64.whl.metadata (1.6 kB)\n",
            "Requirement already satisfied: nvidia-cusparselt-cu12==0.6.2 in /usr/local/lib/python3.11/dist-packages (from torch<4.0,>=2.1.0->lightning) (0.6.2)\n",
            "Requirement already satisfied: nvidia-nccl-cu12==2.21.5 in /usr/local/lib/python3.11/dist-packages (from torch<4.0,>=2.1.0->lightning) (2.21.5)\n",
            "Requirement already satisfied: nvidia-nvtx-cu12==12.4.127 in /usr/local/lib/python3.11/dist-packages (from torch<4.0,>=2.1.0->lightning) (12.4.127)\n",
            "Collecting nvidia-nvjitlink-cu12==12.4.127 (from torch<4.0,>=2.1.0->lightning)\n",
            "  Downloading nvidia_nvjitlink_cu12-12.4.127-py3-none-manylinux2014_x86_64.whl.metadata (1.5 kB)\n",
            "Requirement already satisfied: triton==3.2.0 in /usr/local/lib/python3.11/dist-packages (from torch<4.0,>=2.1.0->lightning) (3.2.0)\n",
            "Requirement already satisfied: sympy==1.13.1 in /usr/local/lib/python3.11/dist-packages (from torch<4.0,>=2.1.0->lightning) (1.13.1)\n",
            "Requirement already satisfied: mpmath<1.4,>=1.1.0 in /usr/local/lib/python3.11/dist-packages (from sympy==1.13.1->torch<4.0,>=2.1.0->lightning) (1.3.0)\n",
            "Requirement already satisfied: numpy>1.20.0 in /usr/local/lib/python3.11/dist-packages (from torchmetrics<3.0,>=0.7.0->lightning) (2.0.2)\n",
            "Requirement already satisfied: aiohappyeyeballs>=2.3.0 in /usr/local/lib/python3.11/dist-packages (from aiohttp!=4.0.0a0,!=4.0.0a1->fsspec[http]<2026.0,>=2022.5.0->lightning) (2.6.1)\n",
            "Requirement already satisfied: aiosignal>=1.1.2 in /usr/local/lib/python3.11/dist-packages (from aiohttp!=4.0.0a0,!=4.0.0a1->fsspec[http]<2026.0,>=2022.5.0->lightning) (1.3.2)\n",
            "Requirement already satisfied: attrs>=17.3.0 in /usr/local/lib/python3.11/dist-packages (from aiohttp!=4.0.0a0,!=4.0.0a1->fsspec[http]<2026.0,>=2022.5.0->lightning) (25.3.0)\n",
            "Requirement already satisfied: frozenlist>=1.1.1 in /usr/local/lib/python3.11/dist-packages (from aiohttp!=4.0.0a0,!=4.0.0a1->fsspec[http]<2026.0,>=2022.5.0->lightning) (1.5.0)\n",
            "Requirement already satisfied: multidict<7.0,>=4.5 in /usr/local/lib/python3.11/dist-packages (from aiohttp!=4.0.0a0,!=4.0.0a1->fsspec[http]<2026.0,>=2022.5.0->lightning) (6.2.0)\n",
            "Requirement already satisfied: propcache>=0.2.0 in /usr/local/lib/python3.11/dist-packages (from aiohttp!=4.0.0a0,!=4.0.0a1->fsspec[http]<2026.0,>=2022.5.0->lightning) (0.3.1)\n",
            "Requirement already satisfied: yarl<2.0,>=1.17.0 in /usr/local/lib/python3.11/dist-packages (from aiohttp!=4.0.0a0,!=4.0.0a1->fsspec[http]<2026.0,>=2022.5.0->lightning) (1.18.3)\n",
            "Requirement already satisfied: MarkupSafe>=2.0 in /usr/local/lib/python3.11/dist-packages (from jinja2->torch<4.0,>=2.1.0->lightning) (3.0.2)\n",
            "Requirement already satisfied: idna>=2.0 in /usr/local/lib/python3.11/dist-packages (from yarl<2.0,>=1.17.0->aiohttp!=4.0.0a0,!=4.0.0a1->fsspec[http]<2026.0,>=2022.5.0->lightning) (3.10)\n",
            "Downloading lightning-2.5.1-py3-none-any.whl (818 kB)\n",
            "\u001b[2K   \u001b[90m━━━━━━━━━━━━━━━━━━━━━━━━━━━━━━━━━━━━━━━━\u001b[0m \u001b[32m818.9/818.9 kB\u001b[0m \u001b[31m17.9 MB/s\u001b[0m eta \u001b[36m0:00:00\u001b[0m\n",
            "\u001b[?25hDownloading lightning_utilities-0.14.2-py3-none-any.whl (28 kB)\n",
            "Downloading nvidia_cublas_cu12-12.4.5.8-py3-none-manylinux2014_x86_64.whl (363.4 MB)\n",
            "\u001b[2K   \u001b[90m━━━━━━━━━━━━━━━━━━━━━━━━━━━━━━━━━━━━━━━━\u001b[0m \u001b[32m363.4/363.4 MB\u001b[0m \u001b[31m4.3 MB/s\u001b[0m eta \u001b[36m0:00:00\u001b[0m\n",
            "\u001b[?25hDownloading nvidia_cuda_cupti_cu12-12.4.127-py3-none-manylinux2014_x86_64.whl (13.8 MB)\n",
            "\u001b[2K   \u001b[90m━━━━━━━━━━━━━━━━━━━━━━━━━━━━━━━━━━━━━━━━\u001b[0m \u001b[32m13.8/13.8 MB\u001b[0m \u001b[31m44.3 MB/s\u001b[0m eta \u001b[36m0:00:00\u001b[0m\n",
            "\u001b[?25hDownloading nvidia_cuda_nvrtc_cu12-12.4.127-py3-none-manylinux2014_x86_64.whl (24.6 MB)\n",
            "\u001b[2K   \u001b[90m━━━━━━━━━━━━━━━━━━━━━━━━━━━━━━━━━━━━━━━━\u001b[0m \u001b[32m24.6/24.6 MB\u001b[0m \u001b[31m30.1 MB/s\u001b[0m eta \u001b[36m0:00:00\u001b[0m\n",
            "\u001b[?25hDownloading nvidia_cuda_runtime_cu12-12.4.127-py3-none-manylinux2014_x86_64.whl (883 kB)\n",
            "\u001b[2K   \u001b[90m━━━━━━━━━━━━━━━━━━━━━━━━━━━━━━━━━━━━━━━━\u001b[0m \u001b[32m883.7/883.7 kB\u001b[0m \u001b[31m38.9 MB/s\u001b[0m eta \u001b[36m0:00:00\u001b[0m\n",
            "\u001b[?25hDownloading nvidia_cudnn_cu12-9.1.0.70-py3-none-manylinux2014_x86_64.whl (664.8 MB)\n",
            "\u001b[2K   \u001b[90m━━━━━━━━━━━━━━━━━━━━━━━━━━━━━━━━━━━━━━━━\u001b[0m \u001b[32m664.8/664.8 MB\u001b[0m \u001b[31m2.0 MB/s\u001b[0m eta \u001b[36m0:00:00\u001b[0m\n",
            "\u001b[?25hDownloading nvidia_cufft_cu12-11.2.1.3-py3-none-manylinux2014_x86_64.whl (211.5 MB)\n",
            "\u001b[2K   \u001b[90m━━━━━━━━━━━━━━━━━━━━━━━━━━━━━━━━━━━━━━━━\u001b[0m \u001b[32m211.5/211.5 MB\u001b[0m \u001b[31m6.8 MB/s\u001b[0m eta \u001b[36m0:00:00\u001b[0m\n",
            "\u001b[?25hDownloading nvidia_curand_cu12-10.3.5.147-py3-none-manylinux2014_x86_64.whl (56.3 MB)\n",
            "\u001b[2K   \u001b[90m━━━━━━━━━━━━━━━━━━━━━━━━━━━━━━━━━━━━━━━━\u001b[0m \u001b[32m56.3/56.3 MB\u001b[0m \u001b[31m13.5 MB/s\u001b[0m eta \u001b[36m0:00:00\u001b[0m\n",
            "\u001b[?25hDownloading nvidia_cusolver_cu12-11.6.1.9-py3-none-manylinux2014_x86_64.whl (127.9 MB)\n",
            "\u001b[2K   \u001b[90m━━━━━━━━━━━━━━━━━━━━━━━━━━━━━━━━━━━━━━━━\u001b[0m \u001b[32m127.9/127.9 MB\u001b[0m \u001b[31m6.5 MB/s\u001b[0m eta \u001b[36m0:00:00\u001b[0m\n",
            "\u001b[?25hDownloading nvidia_cusparse_cu12-12.3.1.170-py3-none-manylinux2014_x86_64.whl (207.5 MB)\n",
            "\u001b[2K   \u001b[90m━━━━━━━━━━━━━━━━━━━━━━━━━━━━━━━━━━━━━━━━\u001b[0m \u001b[32m207.5/207.5 MB\u001b[0m \u001b[31m5.1 MB/s\u001b[0m eta \u001b[36m0:00:00\u001b[0m\n",
            "\u001b[?25hDownloading nvidia_nvjitlink_cu12-12.4.127-py3-none-manylinux2014_x86_64.whl (21.1 MB)\n",
            "\u001b[2K   \u001b[90m━━━━━━━━━━━━━━━━━━━━━━━━━━━━━━━━━━━━━━━━\u001b[0m \u001b[32m21.1/21.1 MB\u001b[0m \u001b[31m61.1 MB/s\u001b[0m eta \u001b[36m0:00:00\u001b[0m\n",
            "\u001b[?25hDownloading torchmetrics-1.7.0-py3-none-any.whl (960 kB)\n",
            "\u001b[2K   \u001b[90m━━━━━━━━━━━━━━━━━━━━━━━━━━━━━━━━━━━━━━━━\u001b[0m \u001b[32m960.9/960.9 kB\u001b[0m \u001b[31m39.2 MB/s\u001b[0m eta \u001b[36m0:00:00\u001b[0m\n",
            "\u001b[?25hDownloading pytorch_lightning-2.5.1-py3-none-any.whl (822 kB)\n",
            "\u001b[2K   \u001b[90m━━━━━━━━━━━━━━━━━━━━━━━━━━━━━━━━━━━━━━━━\u001b[0m \u001b[32m823.0/823.0 kB\u001b[0m \u001b[31m45.5 MB/s\u001b[0m eta \u001b[36m0:00:00\u001b[0m\n",
            "\u001b[?25hInstalling collected packages: nvidia-nvjitlink-cu12, nvidia-curand-cu12, nvidia-cufft-cu12, nvidia-cuda-runtime-cu12, nvidia-cuda-nvrtc-cu12, nvidia-cuda-cupti-cu12, nvidia-cublas-cu12, lightning-utilities, nvidia-cusparse-cu12, nvidia-cudnn-cu12, nvidia-cusolver-cu12, torchmetrics, pytorch-lightning, lightning\n",
            "  Attempting uninstall: nvidia-nvjitlink-cu12\n",
            "    Found existing installation: nvidia-nvjitlink-cu12 12.5.82\n",
            "    Uninstalling nvidia-nvjitlink-cu12-12.5.82:\n",
            "      Successfully uninstalled nvidia-nvjitlink-cu12-12.5.82\n",
            "  Attempting uninstall: nvidia-curand-cu12\n",
            "    Found existing installation: nvidia-curand-cu12 10.3.6.82\n",
            "    Uninstalling nvidia-curand-cu12-10.3.6.82:\n",
            "      Successfully uninstalled nvidia-curand-cu12-10.3.6.82\n",
            "  Attempting uninstall: nvidia-cufft-cu12\n",
            "    Found existing installation: nvidia-cufft-cu12 11.2.3.61\n",
            "    Uninstalling nvidia-cufft-cu12-11.2.3.61:\n",
            "      Successfully uninstalled nvidia-cufft-cu12-11.2.3.61\n",
            "  Attempting uninstall: nvidia-cuda-runtime-cu12\n",
            "    Found existing installation: nvidia-cuda-runtime-cu12 12.5.82\n",
            "    Uninstalling nvidia-cuda-runtime-cu12-12.5.82:\n",
            "      Successfully uninstalled nvidia-cuda-runtime-cu12-12.5.82\n",
            "  Attempting uninstall: nvidia-cuda-nvrtc-cu12\n",
            "    Found existing installation: nvidia-cuda-nvrtc-cu12 12.5.82\n",
            "    Uninstalling nvidia-cuda-nvrtc-cu12-12.5.82:\n",
            "      Successfully uninstalled nvidia-cuda-nvrtc-cu12-12.5.82\n",
            "  Attempting uninstall: nvidia-cuda-cupti-cu12\n",
            "    Found existing installation: nvidia-cuda-cupti-cu12 12.5.82\n",
            "    Uninstalling nvidia-cuda-cupti-cu12-12.5.82:\n",
            "      Successfully uninstalled nvidia-cuda-cupti-cu12-12.5.82\n",
            "  Attempting uninstall: nvidia-cublas-cu12\n",
            "    Found existing installation: nvidia-cublas-cu12 12.5.3.2\n",
            "    Uninstalling nvidia-cublas-cu12-12.5.3.2:\n",
            "      Successfully uninstalled nvidia-cublas-cu12-12.5.3.2\n",
            "  Attempting uninstall: nvidia-cusparse-cu12\n",
            "    Found existing installation: nvidia-cusparse-cu12 12.5.1.3\n",
            "    Uninstalling nvidia-cusparse-cu12-12.5.1.3:\n",
            "      Successfully uninstalled nvidia-cusparse-cu12-12.5.1.3\n",
            "  Attempting uninstall: nvidia-cudnn-cu12\n",
            "    Found existing installation: nvidia-cudnn-cu12 9.3.0.75\n",
            "    Uninstalling nvidia-cudnn-cu12-9.3.0.75:\n",
            "      Successfully uninstalled nvidia-cudnn-cu12-9.3.0.75\n",
            "  Attempting uninstall: nvidia-cusolver-cu12\n",
            "    Found existing installation: nvidia-cusolver-cu12 11.6.3.83\n",
            "    Uninstalling nvidia-cusolver-cu12-11.6.3.83:\n",
            "      Successfully uninstalled nvidia-cusolver-cu12-11.6.3.83\n",
            "Successfully installed lightning-2.5.1 lightning-utilities-0.14.2 nvidia-cublas-cu12-12.4.5.8 nvidia-cuda-cupti-cu12-12.4.127 nvidia-cuda-nvrtc-cu12-12.4.127 nvidia-cuda-runtime-cu12-12.4.127 nvidia-cudnn-cu12-9.1.0.70 nvidia-cufft-cu12-11.2.1.3 nvidia-curand-cu12-10.3.5.147 nvidia-cusolver-cu12-11.6.1.9 nvidia-cusparse-cu12-12.3.1.170 nvidia-nvjitlink-cu12-12.4.127 pytorch-lightning-2.5.1 torchmetrics-1.7.0\n"
          ]
        }
      ],
      "source": [
        "!pip install lightning"
      ]
    },
    {
      "cell_type": "markdown",
      "metadata": {
        "id": "M-L0_kH-qfcu"
      },
      "source": [
        "## 필요한 모듈 임포트"
      ]
    },
    {
      "cell_type": "code",
      "execution_count": 2,
      "metadata": {
        "colab": {
          "base_uri": "https://localhost:8080/"
        },
        "id": "4vEgz7DjpN46",
        "outputId": "14cf4208-f0d7-4e2f-baf7-c58cfa594bbc"
      },
      "outputs": [
        {
          "name": "stdout",
          "output_type": "stream",
          "text": [
            "Python: 3.11.11 (main, Dec  4 2024, 08:55:07) [GCC 11.4.0]\n",
            "Numpy: 2.0.2\n",
            "Torch:  2.6.0+cu124\n",
            "Torchvision:  0.21.0+cu124\n"
          ]
        }
      ],
      "source": [
        "import sys\n",
        "import time\n",
        "import numpy as np\n",
        "import matplotlib.pyplot as plt\n",
        "\n",
        "import torch                                      # 파이토치 임포트\n",
        "import torch.nn as nn                             # nn 모듈 임포트\n",
        "import torch.nn.functional as F\n",
        "\n",
        "import torchvision                                # torchvision 임포트\n",
        "import torchvision.utils as utils\n",
        "import torchvision.transforms as transforms       # numpy 이미지에서 tensor 이미지로 변경하기 위한 모듈\n",
        "import torchvision.datasets as datasets           # pytorch에 내장된 dataset을 불러오기 위한 모듈\n",
        "\n",
        "import lightning as L                             # PyTorch Ligthning 모듈 임포트\n",
        "\n",
        "from tqdm import tqdm\n",
        "\n",
        "print(\"Python:\", sys.version)\n",
        "print(\"Numpy:\", np.__version__)\n",
        "\n",
        "print(\"Torch: \", torch.__version__)               # 파이토치 버전을 확인하도록 한다.\n",
        "print(\"Torchvision: \", torchvision.__version__)   # 토치비전 버전을 확인하도록 한다."
      ]
    },
    {
      "cell_type": "markdown",
      "metadata": {
        "id": "YoD4j6wWtQ-c"
      },
      "source": [
        "## Hyperparameter 설정\n",
        "* batch size, learning rate, epoch을 설정\n",
        "* 잠재 벡터(latent vector) $z$의 크기 설정"
      ]
    },
    {
      "cell_type": "code",
      "execution_count": 446,
      "metadata": {
        "id": "fOy6U0rXtSGo"
      },
      "outputs": [],
      "source": [
        "batch_size    = 100\n",
        "learning_rate = 0.002\n",
        "n_dim = 3"
      ]
    },
    {
      "cell_type": "markdown",
      "metadata": {
        "id": "MC13dP3Ku7yY"
      },
      "source": [
        "# 데이터셋"
      ]
    },
    {
      "cell_type": "code",
      "execution_count": 479,
      "metadata": {
        "id": "yE1QV6N2u-Ls"
      },
      "outputs": [],
      "source": [
        "import torchvision.transforms as transforms\n",
        "from torchvision.datasets import MNIST\n",
        "\n",
        "download_root = './MNIST_DATASET'\n",
        "\n",
        "mnist_transform = transforms.Compose([\n",
        "    transforms.ToTensor(),\n",
        "])\n",
        "\n",
        "train_dataset = MNIST(download_root,\n",
        "                      transform=mnist_transform,\n",
        "                      train=True,\n",
        "                      download=True)\n",
        "\n",
        "test_dataset = MNIST(download_root,\n",
        "                     transform=mnist_transform,\n",
        "                     train=False,\n",
        "                     download=False)"
      ]
    },
    {
      "cell_type": "markdown",
      "metadata": {
        "id": "oybKVTENWUj8"
      },
      "source": [
        "## MNIST DataLoader 정의\n",
        "\n",
        "[파이토치 데이터로더](https://pytorch.org/docs/stable/data.html#torch.utils.data.DataLoader)는 데이터셋을 배치단위로 묶어 순회(iteration)할 수 있도록 한다.\n",
        "\n",
        "아래 코드는 데이터셋에 대한 데이터로더를 만들고, 각 배치가 어떤 텐서 형태로 구성되어 있는지 확인하는 코드이다.\n",
        "* 데이터로더에서는 이미지들이 배치단위로 묶였기 때문에, B x C x H x W 모양(shape)의 텐서이며, 데이터타입(dtype)은 `torch.float32`가 되었음을 확인하자.\n",
        "* 데이터로더에서는 레이블들이 배치단위로 묶였기 때문에, B 모양(shape)의 텐서이며, 데이터타입(dtype)은 `torch.int64`가 되었음을 확인하자.\n",
        "\n",
        "train_dataset과 test_dataset은 동일 형태이므로, train_dataset의 데이터로더에 대해서만 확인하였다.\n"
      ]
    },
    {
      "cell_type": "code",
      "execution_count": 448,
      "metadata": {
        "id": "QBTZdpT5WSqi"
      },
      "outputs": [],
      "source": [
        "from torch.utils.data import DataLoader\n",
        "\n",
        "train_loader = DataLoader(dataset=train_dataset,\n",
        "                          batch_size=batch_size,\n",
        "                          shuffle=True)\n",
        "\n",
        "test_loader = DataLoader(dataset=test_dataset,\n",
        "                         batch_size=batch_size,\n",
        "                         shuffle=False)"
      ]
    },
    {
      "cell_type": "markdown",
      "metadata": {
        "id": "W0TzVysyuwcQ"
      },
      "source": [
        "## 네트워크 모델 설계\n",
        "* 인코더 모델: `torch.nn.Sequential` 모듈로 모델로 설계\n",
        "  + InputLayer로 (1,28,28) 영상을 받고, Linear 레이어를 여럿 통과시킨 후, 출력으로 n_dim차원 벡터가 나오도록 함.\n",
        "* 디코더 모델: `torch.nn.Sequential` 모듈로 모델로 설계\n",
        "  + InputLayer에서 n_dim차원 벡터를 받고, Linear 레이어를 여럿 통과시킨 후, 출력으로 (1,28,28) 영상이 나오도록 함.\n",
        "* 오토인코더 모델: 인코더, 디코더를 결합하여 설계\n",
        "\n",
        "### 인코더 모델 정의\n",
        "* (1, 28, 28) 영상을 입력으로 받도록 입력 레이어 정의\n",
        "* Flatten으로 입력 텐서를 784-vector로 벡터라이즈\n",
        "* Fully connected layer로 784 > 256 > 128 > 32 > n_dim 로 차원 축소\n",
        "\n",
        "### 디코더 모델 정의\n",
        "* Fully connected layey로 n_dim > 32 > 128 > 256 > 784로 차원 확대\n",
        "* 784-vector를 Reshape을 통해 (28, 28)의 텐서로 변환"
      ]
    },
    {
      "cell_type": "code",
      "execution_count": 449,
      "metadata": {
        "id": "LUWUPPnKsqa2"
      },
      "outputs": [],
      "source": [
        "enc = nn.Sequential(\n",
        "  nn.Flatten(),\n",
        "  nn.Linear(784, 256),\n",
        "  nn.ReLU(),\n",
        "  nn.Linear(256, 128),\n",
        "  nn.ReLU(),\n",
        "  nn.Linear(128, 32),\n",
        "  nn.ReLU(),\n",
        "  nn.Linear(32, n_dim)\n",
        ")\n",
        "\n",
        "dec = nn.Sequential(\n",
        "    nn.Linear(n_dim, 32),\n",
        "    nn.ReLU(),\n",
        "    nn.Linear(32, 256),\n",
        "    nn.ReLU(),\n",
        "    nn.Linear(256, 784),\n",
        "    nn.Unflatten(1, torch.Size([1, 28, 28])),\n",
        "    nn.Sigmoid(),\n",
        ")"
      ]
    },
    {
      "cell_type": "markdown",
      "metadata": {
        "id": "lH-Xbl08xEvq"
      },
      "source": [
        "# PyTorch Lightning을 사용한 모델 정의\n",
        "\n",
        "- `LightningModule`을 서브클래싱한 AutoEncoder 클래스를 정의하자.\n",
        "-  `AutoEncoder` 클래스 내부에 학습 루프, 최적화 설정 등을 모두 캡슐화하여 구현\n",
        "\n"
      ]
    },
    {
      "cell_type": "code",
      "execution_count": 450,
      "metadata": {
        "id": "TacvfFPH0EJc"
      },
      "outputs": [],
      "source": [
        "# TODO\n",
        "\n",
        "class AutoEncoder(L.LightningModule):\n",
        "  def __init__(self, enc, dec):\n",
        "    super().__init__()\n",
        "    self.enc = enc\n",
        "    self.dec = dec\n",
        "    self.mse = nn.MSELoss()\n",
        "\n",
        "  def training_step(self, batch, batch_idx):\n",
        "    ## training step은 훈련 단계의 각 step에서 진행하는 일을 정의함.\n",
        "    x, _ = batch\n",
        "    result = self.forward(x)\n",
        "    loss = self.mse(result, x)\n",
        "    self.log(\"train_loss\", loss)\n",
        "    return loss # loss를 return 받으면 자동으로 역전파 진행해주기 때문에 특별한 경우가 아니면 backward를 명시해 적을 필요 없음\n",
        "    # pass\n",
        "\n",
        "  def configure_optimizers(self):\n",
        "    optimizer = torch.optim.Adam(ae.parameters(), lr=learning_rate)\n",
        "    return optimizer\n",
        "    # pass\n",
        "\n",
        "  def forward(self, x):\n",
        "    z = self.enc(x)\n",
        "    result = self.dec(z)\n",
        "    return result\n",
        "    # pass\n",
        "\n"
      ]
    },
    {
      "cell_type": "markdown",
      "metadata": {
        "id": "3awozklY-mig"
      },
      "source": [
        "# 모델 인스턴스 정의\n",
        "- `AutoEncoder` 클래스의 인스턴스 `ae`를 정의한다.\n",
        "- 모델 인스턴스 `ae`가 어떤 디바이스에 있는지 조사한다."
      ]
    },
    {
      "cell_type": "code",
      "execution_count": 451,
      "metadata": {
        "colab": {
          "base_uri": "https://localhost:8080/"
        },
        "id": "hOiqqqOd-97x",
        "outputId": "62025d86-fb75-4d48-e136-c1ff25f983fc"
      },
      "outputs": [
        {
          "name": "stdout",
          "output_type": "stream",
          "text": [
            "cuda:0\n"
          ]
        }
      ],
      "source": [
        "# init the autoencoder\n",
        "ae = AutoEncoder(enc, dec)\n",
        "device = \"cuda:0\" if torch.cuda.is_available() else \"cpu\"\n",
        "ae.to(device)\n",
        "print(ae.device)"
      ]
    },
    {
      "cell_type": "markdown",
      "metadata": {
        "id": "_K44rYrn1ipC"
      },
      "source": [
        "## 네트워크 모델 구조 확인\n",
        "딥러닝 모델의 입출력 구조를 다음과 같이 확인한다.  여기서 중요한 사항은 다음을 확인하는 것이다.\n",
        "\n",
        "1. 레이어의 연결구조,  \n",
        "2. 레이어별 입출력 텐서의 차원,\n",
        "3. 학습할 파라메터 개수\n",
        "\n",
        "* Lightning이 모델을 어떤 디바이스에 보유하고 있는지 `device=str(ae.device)`로 확인하면서 사용해야 함."
      ]
    },
    {
      "cell_type": "code",
      "execution_count": 452,
      "metadata": {
        "colab": {
          "base_uri": "https://localhost:8080/"
        },
        "id": "qIqREtSZZekL",
        "outputId": "338907db-1bf2-4150-d813-99a516f4f5ea"
      },
      "outputs": [
        {
          "name": "stdout",
          "output_type": "stream",
          "text": [
            "Requirement already satisfied: torchsummary in /usr/local/lib/python3.11/dist-packages (1.5.1)\n"
          ]
        }
      ],
      "source": [
        "!pip install torchsummary"
      ]
    },
    {
      "cell_type": "code",
      "execution_count": 453,
      "metadata": {
        "colab": {
          "base_uri": "https://localhost:8080/"
        },
        "id": "hV7Ak9pEEbdF",
        "outputId": "b6611799-ee99-451d-9d7b-b42c11dd9033"
      },
      "outputs": [
        {
          "name": "stdout",
          "output_type": "stream",
          "text": [
            "cuda:0\n"
          ]
        }
      ],
      "source": [
        "print(ae.device)"
      ]
    },
    {
      "cell_type": "code",
      "execution_count": 454,
      "metadata": {
        "colab": {
          "base_uri": "https://localhost:8080/"
        },
        "id": "yYOxN4eTXxm5",
        "outputId": "6fdfe6c2-1110-49a5-99c3-0d4b20a7eee1"
      },
      "outputs": [
        {
          "name": "stdout",
          "output_type": "stream",
          "text": [
            "----------------------------------------------------------------\n",
            "        Layer (type)               Output Shape         Param #\n",
            "================================================================\n",
            "           Flatten-1                  [-1, 784]               0\n",
            "            Linear-2                  [-1, 256]         200,960\n",
            "              ReLU-3                  [-1, 256]               0\n",
            "            Linear-4                  [-1, 128]          32,896\n",
            "              ReLU-5                  [-1, 128]               0\n",
            "            Linear-6                   [-1, 32]           4,128\n",
            "              ReLU-7                   [-1, 32]               0\n",
            "            Linear-8                    [-1, 3]              99\n",
            "            Linear-9                   [-1, 32]             128\n",
            "             ReLU-10                   [-1, 32]               0\n",
            "           Linear-11                  [-1, 256]           8,448\n",
            "             ReLU-12                  [-1, 256]               0\n",
            "           Linear-13                  [-1, 784]         201,488\n",
            "        Unflatten-14            [-1, 1, 28, 28]               0\n",
            "          Sigmoid-15            [-1, 1, 28, 28]               0\n",
            "================================================================\n",
            "Total params: 448,147\n",
            "Trainable params: 448,147\n",
            "Non-trainable params: 0\n",
            "----------------------------------------------------------------\n",
            "Input size (MB): 0.00\n",
            "Forward/backward pass size (MB): 0.03\n",
            "Params size (MB): 1.71\n",
            "Estimated Total Size (MB): 1.75\n",
            "----------------------------------------------------------------\n"
          ]
        }
      ],
      "source": [
        "from torchsummary import summary\n",
        "\n",
        "device = \"cuda\" if torch.cuda.is_available() else \"cpu\"\n",
        "summary(ae.to(device), (1, 28, 28), device=device)"
      ]
    },
    {
      "cell_type": "markdown",
      "metadata": {
        "id": "AFL8j1ElZfqY"
      },
      "source": [
        "Lightning 모듈에서 지원하는 summarize() 함수로 모델의 구조를 텍스트로 프린트할 수 있음.\n",
        "* 모델이 어떤 디바이스에 있는지 신경쓸 필요 없음.\n",
        "* 하지만 torchsummary 보다 간단한 방식으로만 확인 가능함."
      ]
    },
    {
      "cell_type": "code",
      "execution_count": 455,
      "metadata": {
        "colab": {
          "base_uri": "https://localhost:8080/"
        },
        "id": "XXmq7d503QaM",
        "outputId": "ddbd0f70-0781-4412-8aef-3c09180560e0"
      },
      "outputs": [
        {
          "name": "stdout",
          "output_type": "stream",
          "text": [
            "   | Name  | Type       | Params | Mode \n",
            "----------------------------------------------\n",
            "0  | enc   | Sequential | 238 K  | train\n",
            "1  | enc.0 | Flatten    | 0      | train\n",
            "2  | enc.1 | Linear     | 200 K  | train\n",
            "3  | enc.2 | ReLU       | 0      | train\n",
            "4  | enc.3 | Linear     | 32.9 K | train\n",
            "5  | enc.4 | ReLU       | 0      | train\n",
            "6  | enc.5 | Linear     | 4.1 K  | train\n",
            "7  | enc.6 | ReLU       | 0      | train\n",
            "8  | enc.7 | Linear     | 99     | train\n",
            "9  | dec   | Sequential | 210 K  | train\n",
            "10 | dec.0 | Linear     | 128    | train\n",
            "11 | dec.1 | ReLU       | 0      | train\n",
            "12 | dec.2 | Linear     | 8.4 K  | train\n",
            "13 | dec.3 | ReLU       | 0      | train\n",
            "14 | dec.4 | Linear     | 201 K  | train\n",
            "15 | dec.5 | Unflatten  | 0      | train\n",
            "16 | dec.6 | Sigmoid    | 0      | train\n",
            "17 | mse   | MSELoss    | 0      | train\n",
            "----------------------------------------------\n",
            "448 K     Trainable params\n",
            "0         Non-trainable params\n",
            "448 K     Total params\n",
            "1.793     Total estimated model params size (MB)\n",
            "18        Modules in train mode\n",
            "0         Modules in eval mode\n"
          ]
        }
      ],
      "source": [
        "from pytorch_lightning.utilities.model_summary import summarize\n",
        "\n",
        "print(summarize(ae, max_depth=2))"
      ]
    },
    {
      "cell_type": "markdown",
      "metadata": {
        "id": "wYeXbPUsuhCc"
      },
      "source": [
        "## 훈련 전, 네트워크 모델을 함수로서 활용\n",
        "* AutoEncoder ae를 모델로 구성했기 때문에, 지금부터 함수로서 활용 가능\n",
        "  + 단, ae 함수는 batch 단위로 수행됨을 명심할 것.  \n",
        "    - 단순히, (1, 28, 28) -> ae -> (1, 28, 28)로 동작하지 않고,\n",
        "    - batch 단위로 (?, 1, 28, 28) -> ae -> (?, 1, 28, 28)로 병렬처리됨.\n",
        "* 지금은 훈련 전 네트웍이기 때문에 함수로서는 작동하지만 노이즈 출력만 나올 뿐, 정상적인 출력이 나오는 함수로 동작하지 않음."
      ]
    },
    {
      "cell_type": "code",
      "execution_count": 456,
      "metadata": {
        "colab": {
          "base_uri": "https://localhost:8080/",
          "height": 424,
          "referenced_widgets": [
            "00d823203b944a73993faeb6902a3337",
            "8bf36d84fc154a6d9fdaa2fbbb7f4d32",
            "d9323c6a389a4aa38be0b667e9260ff4",
            "a7a3db0e5e4b4a39a3abddd44a0b90dc",
            "2cb8ae841b774488b351acc7db3553ed",
            "5f97ac9bba304b24a89eaee8b0a7a4a2",
            "3f74e93402724e6bb4300c06bb0171ae"
          ]
        },
        "id": "aG8Ot7ZNbDBu",
        "outputId": "40a90a8e-8284-44af-963f-6b3251f3211b"
      },
      "outputs": [
        {
          "data": {
            "application/vnd.jupyter.widget-view+json": {
              "model_id": "00d823203b944a73993faeb6902a3337",
              "version_major": 2,
              "version_minor": 0
            },
            "text/plain": [
              "interactive(children=(IntSlider(value=0, continuous_update=False, description='idx', max=59999), Output()), _d…"
            ]
          },
          "metadata": {},
          "output_type": "display_data"
        },
        {
          "data": {
            "text/html": [
              "<div style=\"max-width:800px; border: 1px solid var(--colab-border-color);\"><style>\n",
              "      pre.function-repr-contents {\n",
              "        overflow-x: auto;\n",
              "        padding: 8px 12px;\n",
              "        max-height: 500px;\n",
              "      }\n",
              "\n",
              "      pre.function-repr-contents.function-repr-contents-collapsed {\n",
              "        cursor: pointer;\n",
              "        max-height: 100px;\n",
              "      }\n",
              "    </style>\n",
              "    <pre style=\"white-space: initial; background:\n",
              "         var(--colab-secondary-surface-color); padding: 8px 12px;\n",
              "         border-bottom: 1px solid var(--colab-border-color);\"><b>train_dataset_imshow</b><br/>def train_dataset_imshow(idx)</pre><pre class=\"function-repr-contents function-repr-contents-collapsed\" style=\"\"><a class=\"filepath\" style=\"display:none\" href=\"#\">/content/&lt;ipython-input-456-cbdede654902&gt;</a>&lt;no docstring&gt;</pre></div>"
            ],
            "text/plain": [
              "<function __main__.train_dataset_imshow(idx)>"
            ]
          },
          "execution_count": 456,
          "metadata": {},
          "output_type": "execute_result"
        }
      ],
      "source": [
        "# TODO\n",
        "import matplotlib.pyplot as plt\n",
        "from torchvision.transforms.functional import to_pil_image\n",
        "import ipywidgets as widgets\n",
        "\n",
        "def train_dataset_imshow(idx):\n",
        "  (image, label) = train_dataset[idx]\n",
        "  print('GT label:', label)\n",
        "\n",
        "  device = \"cuda:0\" if torch.cuda.is_available() else \"cpu\"\n",
        "\n",
        "  X      = torch.unsqueeze(image, 0).to(device)\n",
        "  Y_pred = ae(X)\n",
        "\n",
        "  input_img  = to_pil_image(X.squeeze())\n",
        "  output_img = to_pil_image(Y_pred.squeeze())\n",
        "\n",
        "  plt.subplot(121)\n",
        "  plt.imshow(input_img, cmap='gray')\n",
        "\n",
        "  plt.subplot(122)\n",
        "  plt.imshow(output_img, cmap='gray')\n",
        "\n",
        "  plt.show()\n",
        "\n",
        "widgets.interact(train_dataset_imshow, idx=widgets.IntSlider(min=0, max=len(train_dataset)-1, continuous_update=False))"
      ]
    },
    {
      "cell_type": "markdown",
      "metadata": {
        "id": "AaaBD-YOvdoq"
      },
      "source": [
        "## 딥러닝 모델 학습\n",
        "\n",
        "Lightning의 `Trainer`를 만들고, `fit()` 함수를 통해 딥러닝 모델을 학습시킴."
      ]
    },
    {
      "cell_type": "code",
      "execution_count": 457,
      "metadata": {
        "colab": {
          "base_uri": "https://localhost:8080/",
          "height": 655,
          "referenced_widgets": [
            "23ee215785ea42f99c8a963fe14c39f2",
            "469bdd677b4d4fa7bef65238a493c2ed",
            "25693d3bbc2b4f5eb8a5649388612480",
            "a953b13ea6e94b35ac8c2d36919646cd",
            "5ebe8b91169745eca86d23749afc1130",
            "f98dfb66ce3a40d4a012037bee4fe262",
            "137f85d282c04b5b98a6dedcaa081869",
            "3ae3eb6b6e304a2284203884dd63c495",
            "7b97203e8fa94cd48c08bf4a9994a8aa",
            "e33def3ea46d4480b8c4afd1b0810087",
            "dcb0167becc947aa8740abca37c9343f"
          ]
        },
        "id": "TTeS2Gh8vhJJ",
        "outputId": "94b5c803-f931-4518-962a-82df0aefa6cc"
      },
      "outputs": [
        {
          "name": "stderr",
          "output_type": "stream",
          "text": [
            "INFO:pytorch_lightning.utilities.rank_zero:You are using the plain ModelCheckpoint callback. Consider using LitModelCheckpoint which with seamless uploading to Model registry.\n",
            "INFO:pytorch_lightning.utilities.rank_zero:GPU available: True (cuda), used: True\n",
            "INFO:pytorch_lightning.utilities.rank_zero:TPU available: False, using: 0 TPU cores\n",
            "INFO:pytorch_lightning.utilities.rank_zero:HPU available: False, using: 0 HPUs\n",
            "INFO: LOCAL_RANK: 0 - CUDA_VISIBLE_DEVICES: [0]\n",
            "INFO:lightning.pytorch.accelerators.cuda:LOCAL_RANK: 0 - CUDA_VISIBLE_DEVICES: [0]\n",
            "INFO: \n",
            "  | Name | Type       | Params | Mode \n",
            "--------------------------------------------\n",
            "0 | enc  | Sequential | 238 K  | train\n",
            "1 | dec  | Sequential | 210 K  | train\n",
            "2 | mse  | MSELoss    | 0      | train\n",
            "--------------------------------------------\n",
            "448 K     Trainable params\n",
            "0         Non-trainable params\n",
            "448 K     Total params\n",
            "1.793     Total estimated model params size (MB)\n",
            "18        Modules in train mode\n",
            "0         Modules in eval mode\n",
            "INFO:lightning.pytorch.callbacks.model_summary:\n",
            "  | Name | Type       | Params | Mode \n",
            "--------------------------------------------\n",
            "0 | enc  | Sequential | 238 K  | train\n",
            "1 | dec  | Sequential | 210 K  | train\n",
            "2 | mse  | MSELoss    | 0      | train\n",
            "--------------------------------------------\n",
            "448 K     Trainable params\n",
            "0         Non-trainable params\n",
            "448 K     Total params\n",
            "1.793     Total estimated model params size (MB)\n",
            "18        Modules in train mode\n",
            "0         Modules in eval mode\n"
          ]
        },
        {
          "data": {
            "application/vnd.jupyter.widget-view+json": {
              "model_id": "23ee215785ea42f99c8a963fe14c39f2",
              "version_major": 2,
              "version_minor": 0
            },
            "text/plain": [
              "Training: |          | 0/? [00:00<?, ?it/s]"
            ]
          },
          "metadata": {},
          "output_type": "display_data"
        },
        {
          "name": "stderr",
          "output_type": "stream",
          "text": [
            "INFO:pytorch_lightning.utilities.rank_zero:`Trainer.fit` stopped: `max_epochs=20` reached.\n"
          ]
        }
      ],
      "source": [
        "# TODO\n",
        "trainer = L.Trainer(max_epochs=20)\n",
        "\n",
        "trainer.fit(ae, train_dataloaders=train_loader)"
      ]
    },
    {
      "cell_type": "markdown",
      "metadata": {
        "id": "Tld9oewhvSDj"
      },
      "source": [
        "### 트레이닝셋을 이용해 학습 후 결과 시각화\n",
        "학습이 끝난 autoencoder에 대해 train_dataset에 대한 결과 시각화"
      ]
    },
    {
      "cell_type": "code",
      "execution_count": 458,
      "metadata": {
        "colab": {
          "base_uri": "https://localhost:8080/",
          "height": 424,
          "referenced_widgets": [
            "6102f9018c3e4e5d8e1e25f4a7c64f70",
            "ba8c9d532b6d4f0197ba31bd92eb4bd6",
            "7f6d840a3bc049069d7a6945fad10989",
            "0e4bfcb8cc6c41a0bfa817017aba64ba",
            "d00102f594aa4363a9f299e5353d3e8e",
            "385cefad3ec44bbfa1bce686d66465fc",
            "9d94e35c356c4549bcaee3ea21b1f798"
          ]
        },
        "id": "p4Cr1m1rvL5J",
        "outputId": "c6c60252-5146-4dcf-c611-505a0a16b5d0"
      },
      "outputs": [
        {
          "data": {
            "application/vnd.jupyter.widget-view+json": {
              "model_id": "6102f9018c3e4e5d8e1e25f4a7c64f70",
              "version_major": 2,
              "version_minor": 0
            },
            "text/plain": [
              "interactive(children=(IntSlider(value=0, continuous_update=False, description='idx', max=59999), Output()), _d…"
            ]
          },
          "metadata": {},
          "output_type": "display_data"
        },
        {
          "data": {
            "text/html": [
              "<div style=\"max-width:800px; border: 1px solid var(--colab-border-color);\"><style>\n",
              "      pre.function-repr-contents {\n",
              "        overflow-x: auto;\n",
              "        padding: 8px 12px;\n",
              "        max-height: 500px;\n",
              "      }\n",
              "\n",
              "      pre.function-repr-contents.function-repr-contents-collapsed {\n",
              "        cursor: pointer;\n",
              "        max-height: 100px;\n",
              "      }\n",
              "    </style>\n",
              "    <pre style=\"white-space: initial; background:\n",
              "         var(--colab-secondary-surface-color); padding: 8px 12px;\n",
              "         border-bottom: 1px solid var(--colab-border-color);\"><b>train_dataset_imshow</b><br/>def train_dataset_imshow(idx)</pre><pre class=\"function-repr-contents function-repr-contents-collapsed\" style=\"\"><a class=\"filepath\" style=\"display:none\" href=\"#\">/content/&lt;ipython-input-458-c6c0831dffbd&gt;</a>&lt;no docstring&gt;</pre></div>"
            ],
            "text/plain": [
              "<function __main__.train_dataset_imshow(idx)>"
            ]
          },
          "execution_count": 458,
          "metadata": {},
          "output_type": "execute_result"
        }
      ],
      "source": [
        "# TODO\n",
        "import matplotlib.pyplot as plt\n",
        "from torchvision.transforms.functional import to_pil_image\n",
        "import ipywidgets as widgets\n",
        "\n",
        "def train_dataset_imshow(idx):\n",
        "  device = \"cuda\" if torch.cuda.is_available() else \"cpu\"\n",
        "\n",
        "  (image, label) = train_dataset[idx]\n",
        "  print('GT label:', label)\n",
        "\n",
        "  ae.to(device)\n",
        "  X = torch.unsqueeze(image, 0).to(device)\n",
        "  Y_pred = ae(X)\n",
        "\n",
        "  input_img  = to_pil_image(X.cpu().squeeze())\n",
        "  output_img = to_pil_image(Y_pred.cpu().squeeze())\n",
        "\n",
        "  plt.subplot(121)\n",
        "  plt.imshow(input_img, cmap='gray')\n",
        "\n",
        "  plt.subplot(122)\n",
        "  plt.imshow(output_img, cmap='gray')\n",
        "\n",
        "  plt.show()\n",
        "\n",
        "widgets.interact(train_dataset_imshow, idx=widgets.IntSlider(min=0, max=len(train_dataset)-1, continuous_update=False))"
      ]
    },
    {
      "cell_type": "markdown",
      "metadata": {
        "id": "XSmbapAxvlGY"
      },
      "source": [
        "# 인코더 / 디코더 모델을 각각 따로 함수로서 활용하기\n",
        "오토인코더 네트웍 전체가 아닌 `enc()` 부분과 `dec()` 부분을 각각 수행할 수 있다.\n",
        "* 특정 예제에 대한 인코딩 결과와 디코딩 결과를 따로 확인한다."
      ]
    },
    {
      "cell_type": "code",
      "execution_count": 459,
      "metadata": {
        "colab": {
          "base_uri": "https://localhost:8080/",
          "height": 342
        },
        "id": "SHeONFLKvYs5",
        "outputId": "e5f1adce-f7d3-43d7-b95f-bf49302b7d48"
      },
      "outputs": [
        {
          "name": "stdout",
          "output_type": "stream",
          "text": [
            "GT label: 8\n",
            "latent code z:  tensor([[0.7367, 2.1175, 0.7004]], device='cuda:0', grad_fn=<AddmmBackward0>)\n"
          ]
        },
        {
          "data": {
            "text/plain": [
              "<matplotlib.image.AxesImage at 0x793d96f6acd0>"
            ]
          },
          "execution_count": 459,
          "metadata": {},
          "output_type": "execute_result"
        },
        {
          "data": {
            "image/png": "[encoded data removed]",
            "text/plain": [
              "<Figure size 640x480 with 2 Axes>"
            ]
          },
          "metadata": {},
          "output_type": "display_data"
        }
      ],
      "source": [
        "# TODO\n",
        "import matplotlib.pyplot as plt\n",
        "from torchvision.transforms.functional import to_pil_image\n",
        "\n",
        "idx = 128\n",
        "\n",
        "(image, label) = test_dataset[idx]\n",
        "print('GT label:', label)\n",
        "\n",
        "X      = torch.unsqueeze(image, 0).to(device)\n",
        "z      = enc(X)\n",
        "Y_pred = dec(z)\n",
        "\n",
        "print(\"latent code z: \", z)\n",
        "\n",
        "input_img  = to_pil_image(X.squeeze())\n",
        "output_img = to_pil_image(Y_pred.squeeze())\n",
        "\n",
        "plt.subplot(121)\n",
        "plt.imshow(input_img, cmap='gray')\n",
        "\n",
        "plt.subplot(122)\n",
        "plt.imshow(output_img, cmap='gray')"
      ]
    },
    {
      "cell_type": "markdown",
      "metadata": {
        "id": "JjKms2oWvxUz"
      },
      "source": [
        "인코딩 결과와 유사한 좌표값을 디코딩에 보내도 유사한 결과가 나옴을 확인"
      ]
    },
    {
      "cell_type": "code",
      "execution_count": 460,
      "metadata": {
        "colab": {
          "base_uri": "https://localhost:8080/",
          "height": 520,
          "referenced_widgets": [
            "add053db4a814643bf1059dded073fa2",
            "060b462b05d2428a82df54fe92eff6cf",
            "e369de7460494ce3a09c15ed6fae94e7",
            "3f18218ed84840619869b99741762fe0",
            "43e6c62855cf48fc8da6a6525a24321a",
            "489d41e7ba574387bc12f3d5cb0bfc91",
            "e08d86bd63424df6b2aa62cd17cfe532",
            "621e05b70b2b4d33a8246f86e661729d",
            "a7d91e8f06c8470fb286cb5548c1636f",
            "c825d6b61eda4416a96af46fbff7885e",
            "3c2078b290ad43a8990ca7c018f25e2f",
            "229ac42085444f669a9809ac0192d3e0",
            "413be8f2a78a4d6db5fa8e564e8fcfbe"
          ]
        },
        "id": "n8aQKM4MvyCg",
        "outputId": "e82ab85c-a2b1-4b68-8102-60b8603f2592"
      },
      "outputs": [
        {
          "data": {
            "application/vnd.jupyter.widget-view+json": {
              "model_id": "add053db4a814643bf1059dded073fa2",
              "version_major": 2,
              "version_minor": 0
            },
            "text/plain": [
              "VBox(children=(FloatSlider(value=0.0, description='u', max=10.0, min=-10.0), FloatSlider(value=0.0, descriptio…"
            ]
          },
          "metadata": {},
          "output_type": "display_data"
        },
        {
          "data": {
            "application/vnd.jupyter.widget-view+json": {
              "model_id": "229ac42085444f669a9809ac0192d3e0",
              "version_major": 2,
              "version_minor": 0
            },
            "text/plain": [
              "Output()"
            ]
          },
          "metadata": {},
          "output_type": "display_data"
        }
      ],
      "source": [
        "# TODO\n",
        "import ipywidgets as widgets\n",
        "import numpy as np\n",
        "import matplotlib.pyplot as plt\n",
        "from torchvision.transforms.functional import to_pil_image\n",
        "\n",
        "u = widgets.FloatSlider(min=-10.0, max=10.0, step=0.1, description='u', orientation='horizontal')\n",
        "v = widgets.FloatSlider(min=-10.0, max=10.0, step=0.1, description='v', orientation='horizontal')\n",
        "w = widgets.FloatSlider(min=-10.0, max=10.0, step=0.1, description='w', orientation='horizontal')\n",
        "\n",
        "ui = widgets.VBox([u, v, w])\n",
        "\n",
        "def z_test(u, v, w):\n",
        "    z_test = np.array([[u, v, w]])\n",
        "    print(\"z:\", z_test)\n",
        "\n",
        "    z_test = torch.FloatTensor(z_test).to(device)\n",
        "\n",
        "    ae.eval().to(device)\n",
        "    img_gen = ae.dec(z_test)\n",
        "\n",
        "    img_gen = to_pil_image(img_gen.squeeze())\n",
        "\n",
        "    plt.imshow(img_gen, cmap='gray')\n",
        "    plt.axis(\"off\")\n",
        "    plt.show()\n",
        "\n",
        "out = widgets.interactive_output(z_test, {'u': u, 'v': v, 'w': w})\n",
        "display(ui, out)"
      ]
    },
    {
      "cell_type": "markdown",
      "metadata": {
        "id": "M6YoHHcywLqT"
      },
      "source": [
        "## TODO\n",
        "1. encoder를 거쳐 나온 representation z를 GT label 별로 다른색을 주어 z의 분포를 가시화한다.\n",
        "2. z의 분포를 보고 encoder가 label 별로 discriminative한 representation을 만들어내는지 여부를 확인한다.\n",
        "3. 만일 discriminative하지 않다면, autoencoder가 discriminative한 representation z를 학습하도록 z의 차원을 바꿔가면서 실험을 진행한다.\n",
        "4. 결과에 대한 분석을 작성한다.\n",
        "\n",
        "## 인코딩 결과 가시화\n",
        "오토인코더의 encoder가 만들어 내는 representation인 z 값을 가시화 한다."
      ]
    },
    {
      "cell_type": "markdown",
      "metadata": {
        "id": "jEMYzpLBYKyB"
      },
      "source": [
        "## 가시화 결과\n",
        "\n",
        "![image.png](data:image/png;base64,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)"
      ]
    },
    {
      "cell_type": "markdown",
      "metadata": {
        "id": "TGswH9RHYqGW"
      },
      "source": [
        "## 결과 분석\n",
        "\n",
        "n_dim = 3이므로 결과로 나온 3차원 벡터의 인덱스 0, 1을 2차원으로 투영하여 가시화를 진행하였다.\n",
        "\n",
        "학습을 진행한 결과 각 클래스 별로 잘 모여있지만, 비슷한 모양을 가지는 클래스들이 모여있고 plot함수를 작성하면 이전에 그려진 라벨 위에 새로운 라벨이 덮어져 가려지는 부분이 있다.\n",
        "\n",
        "전체적으로 라벨 8이 있는 부분이 라벨 3, 0과 겹쳐있는 부분이고 라벨 9와 라벨 7, 4와 겹쳐있는 것을 확인 가능한데, 이는 비슷한 모양을 가지는 이미지는 비슷한 벡터를 가진다는 것을 의미한다.\n",
        "\n",
        "또한 n_dim이 3이기 때문에 현재 시각화에 있는 x, y축 말고 z축까지 함께 시각화를 하면 더욱 discrimitive한 결과를 낼 수 있을 것이라는 생각이 든다."
      ]
    },
    {
      "cell_type": "code",
      "execution_count": 465,
      "metadata": {
        "colab": {
          "base_uri": "https://localhost:8080/",
          "height": 654
        },
        "id": "Mja-hYNdvzII",
        "outputId": "aff125c2-0057-4144-d9de-f8adad687254"
      },
      "outputs": [
        {
          "name": "stdout",
          "output_type": "stream",
          "text": [
            "torch.Size([980, 3])\n",
            "torch.Size([1135, 3])\n",
            "torch.Size([1032, 3])\n",
            "torch.Size([1010, 3])\n",
            "torch.Size([982, 3])\n",
            "torch.Size([892, 3])\n",
            "torch.Size([958, 3])\n",
            "torch.Size([1028, 3])\n",
            "torch.Size([974, 3])\n",
            "torch.Size([1009, 3])\n"
          ]
        },
        {
          "data": {
            "text/plain": [
              "<matplotlib.legend.Legend at 0x793d96f77a50>"
            ]
          },
          "execution_count": 465,
          "metadata": {},
          "output_type": "execute_result"
        },
        {
          "data": {
            "image/png": "[encoded data removed]",
            "text/plain": [
              "<Figure size 640x480 with 1 Axes>"
            ]
          },
          "metadata": {},
          "output_type": "display_data"
        }
      ],
      "source": [
        "# TODO\n",
        "import matplotlib.pyplot as plt\n",
        "\n",
        "whole_test_loader = DataLoader(dataset=test_dataset,\n",
        "                               batch_size=len(test_dataset),\n",
        "                               shuffle=False)\n",
        "whole_test_images, whole_test_labels = next(iter(whole_test_loader))\n",
        "\n",
        "whole_test_images = whole_test_images.to(device)\n",
        "whole_test_labels = whole_test_labels.to(device)\n",
        "\n",
        "z = enc(whole_test_images)\n",
        "\n",
        "z_0 = z[whole_test_labels==0]\n",
        "z_1 = z[whole_test_labels==1]\n",
        "z_2 = z[whole_test_labels==2]\n",
        "z_3 = z[whole_test_labels==3]\n",
        "z_4 = z[whole_test_labels==4]\n",
        "z_5 = z[whole_test_labels==5]\n",
        "z_6 = z[whole_test_labels==6]\n",
        "z_7 = z[whole_test_labels==7]\n",
        "z_8 = z[whole_test_labels==8]\n",
        "z_9 = z[whole_test_labels==9]\n",
        "\n",
        "print(z_0.shape)\n",
        "print(z_1.shape)\n",
        "print(z_2.shape)\n",
        "print(z_3.shape)\n",
        "print(z_4.shape)\n",
        "print(z_5.shape)\n",
        "print(z_6.shape)\n",
        "print(z_7.shape)\n",
        "print(z_8.shape)\n",
        "print(z_9.shape)\n",
        "\n",
        "first = 0\n",
        "second = 2\n",
        "\n",
        "plt.title(f'encoder representation (n_dim={n_dim}, elements=z_N[{first}], z_N[{second}])')\n",
        "plt.plot(z_0[:,first].detach().cpu().numpy(), z_0[:,second].detach().cpu().numpy(), 'bo', markersize=3, label=\"0\")\n",
        "plt.plot(z_1[:,first].detach().cpu().numpy(), z_1[:,second].detach().cpu().numpy(), 'go', markersize=3, label=\"1\")\n",
        "plt.plot(z_2[:,first].detach().cpu().numpy(), z_2[:,second].detach().cpu().numpy(), 'co', markersize=3, label=\"2\")\n",
        "plt.plot(z_3[:,first].detach().cpu().numpy(), z_3[:,second].detach().cpu().numpy(), 'ro', markersize=3, label=\"3\")\n",
        "plt.plot(z_4[:,first].detach().cpu().numpy(), z_4[:,second].detach().cpu().numpy(), 'mo', markersize=3, label=\"4\")\n",
        "plt.plot(z_5[:,first].detach().cpu().numpy(), z_5[:,second].detach().cpu().numpy(), 'ko', markersize=3, label=\"5\")\n",
        "plt.plot(z_6[:,first].detach().cpu().numpy(), z_6[:,second].detach().cpu().numpy(), 'mx', markersize=3, label=\"6\")\n",
        "plt.plot(z_7[:,first].detach().cpu().numpy(), z_7[:,second].detach().cpu().numpy(), 'rx', markersize=3, label=\"7\")\n",
        "plt.plot(z_8[:,first].detach().cpu().numpy(), z_8[:,second].detach().cpu().numpy(), 'yx', markersize=3, label=\"8\")\n",
        "plt.plot(z_9[:,first].detach().cpu().numpy(), z_9[:,second].detach().cpu().numpy(), 'bx', markersize=3, label=\"9\")\n",
        "plt.legend()"
      ]
    },
    {
      "cell_type": "markdown",
      "metadata": {
        "id": "hWQmjUDpwhjg"
      },
      "source": [
        "## TODO: 디코더를 이용한 Generative Model 구성\n",
        "1. z 공간의 임의의 위치를 sampling한 후, 이를 decoder의 입력으로 주는 방식으로 generative model을 구축한다.\n",
        "2. 결과로 만들어지는 이미지는 어떤 특징을 가지고 있는지 분석한다."
      ]
    },
    {
      "cell_type": "markdown",
      "metadata": {
        "id": "Zh8gnv60iY1m"
      },
      "source": [
        "## 샘플링한 z를 이용해 이미지 생성 결과\n",
        "\n",
        "![image.png](data:image/png;base64,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)"
      ]
    },
    {
      "cell_type": "markdown",
      "metadata": {
        "id": "PGLGZl2oif2y"
      },
      "source": [
        "## 결과 분석\n",
        "\n",
        "생성 이미지를 보았을 떄, 라벨 5의 모습을 하고 있다.\n",
        "\n",
        "하지만 아래 왼쪽 부분에 희미한 회색 줄이 있는걸 볼 수 있고, 이는 라벨 6과 비슷하다는 것으로 볼 수 있다.\n",
        "\n",
        "이는 784차원의 수를 n_dim차원의 벡터로 변환하는 과정에서 모양이 비슷한 입력 이미지에 대해 유사한 z를 가지게 되기 때문이라고 생각한다. 이로 인해 기존 입력 이미지보다 부드러운 이미지를 갖게 된다는 것을 알 수 있다.\n",
        "\n",
        "정규분포 랜덤추출로 z벡터를 추출 및 decoder에 적용하였기 때문에 여러 이미지가 가지는 특징이 있는 위치에 벡터가 존재할 가능성이 크다. 위의 z벡터 가시화와 같이 특정 라벨값만 존재하는 z벡터 값을 decoder에 넣으면 더욱 확실한 결과가 나올 것이라고 확신한다."
      ]
    },
    {
      "cell_type": "code",
      "execution_count": 477,
      "metadata": {
        "colab": {
          "base_uri": "https://localhost:8080/"
        },
        "id": "aPqh5f8TwlMj",
        "outputId": "7a3c9284-fc6a-4026-f04c-6af6f53ae242"
      },
      "outputs": [
        {
          "name": "stdout",
          "output_type": "stream",
          "text": [
            "torch.Size([1, 3])\n",
            "torch.Size([1, 1, 28, 28])\n",
            "tensor(5.5360e-09, device='cuda:0', grad_fn=<MinBackward1>) tensor(0.8582, device='cuda:0', grad_fn=<MaxBackward1>)\n"
          ]
        }
      ],
      "source": [
        "## TODO\n",
        "z = np.random.randn(1, n_dim)\n",
        "\n",
        "z = torch.FloatTensor(z).to(device)\n",
        "result = dec(z)\n",
        "\n",
        "print(z.shape)\n",
        "print(result.shape)\n",
        "print(result.min(), result.max())"
      ]
    },
    {
      "cell_type": "markdown",
      "metadata": {
        "id": "rIkun0TvwjYj"
      },
      "source": [
        "결과 가시화"
      ]
    },
    {
      "cell_type": "code",
      "execution_count": 478,
      "metadata": {
        "colab": {
          "base_uri": "https://localhost:8080/",
          "height": 448
        },
        "id": "1Pb9lmNlwo7W",
        "outputId": "18d51b6b-c8bc-4ce1-c31c-0b5683c8a6c3"
      },
      "outputs": [
        {
          "name": "stdout",
          "output_type": "stream",
          "text": [
            "z : tensor([[ 0.7597,  0.3356, -0.7622]], device='cuda:0')\n"
          ]
        },
        {
          "data": {
            "image/png": "[encoded data removed]",
            "text/plain": [
              "<Figure size 640x480 with 1 Axes>"
            ]
          },
          "metadata": {},
          "output_type": "display_data"
        }
      ],
      "source": [
        "## TODO\n",
        "import matplotlib.pyplot as plt\n",
        "from torchvision.transforms.functional import to_pil_image\n",
        "\n",
        "print(f\"z : {z}\")\n",
        "\n",
        "img = to_pil_image(result.squeeze())\n",
        "plt.imshow(img, cmap='gray')\n",
        "plt.show()"
      ]
    },
    {
      "cell_type": "code",
      "execution_count": 463,
      "metadata": {
        "id": "dZY7L_YUC8Vm"
      },
      "outputs": [],
      "source": []
    }
  ],
  "metadata": {
    "accelerator": "GPU",
    "colab": {
      "gpuType": "T4",
      "provenance": []
    },
    "kernelspec": {
      "display_name": "Python 3",
      "name": "python3"
    },
    "language_info": {
      "name": "python"
    },
    "widgets": {
      "application/vnd.jupyter.widget-state+json": {
        "00d823203b944a73993faeb6902a3337": {
          "model_module": "@jupyter-widgets/controls",
          "model_module_version": "1.5.0",
          "model_name": "VBoxModel",
          "state": {
            "_dom_classes": [
              "widget-interact"
            ],
            "_model_module": "@jupyter-widgets/controls",
            "_model_module_version": "1.5.0",
            "_model_name": "VBoxModel",
            "_view_count": null,
            "_view_module": "@jupyter-widgets/controls",
            "_view_module_version": "1.5.0",
            "_view_name": "VBoxView",
            "box_style": "",
            "children": [
              "IPY_MODEL_8bf36d84fc154a6d9fdaa2fbbb7f4d32",
              "IPY_MODEL_d9323c6a389a4aa38be0b667e9260ff4"
            ],
            "layout": "IPY_MODEL_a7a3db0e5e4b4a39a3abddd44a0b90dc"
          }
        },
        "060b462b05d2428a82df54fe92eff6cf": {
          "model_module": "@jupyter-widgets/controls",
          "model_module_version": "1.5.0",
          "model_name": "FloatSliderModel",
          "state": {
            "_dom_classes": [],
            "_model_module": "@jupyter-widgets/controls",
            "_model_module_version": "1.5.0",
            "_model_name": "FloatSliderModel",
            "_view_count": null,
            "_view_module": "@jupyter-widgets/controls",
            "_view_module_version": "1.5.0",
            "_view_name": "FloatSliderView",
            "continuous_update": true,
            "description": "u",
            "description_tooltip": null,
            "disabled": false,
            "layout": "IPY_MODEL_489d41e7ba574387bc12f3d5cb0bfc91",
            "max": 10,
            "min": -10,
            "orientation": "horizontal",
            "readout": true,
            "readout_format": ".2f",
            "step": 0.1,
            "style": "IPY_MODEL_e08d86bd63424df6b2aa62cd17cfe532",
            "value": -2.5
          }
        },
        "0e4bfcb8cc6c41a0bfa817017aba64ba": {
          "model_module": "@jupyter-widgets/base",
          "model_module_version": "1.2.0",
          "model_name": "LayoutModel",
          "state": {
            "_model_module": "@jupyter-widgets/base",
            "_model_module_version": "1.2.0",
            "_model_name": "LayoutModel",
            "_view_count": null,
            "_view_module": "@jupyter-widgets/base",
            "_view_module_version": "1.2.0",
            "_view_name": "LayoutView",
            "align_content": null,
            "align_items": null,
            "align_self": null,
            "border": null,
            "bottom": null,
            "display": null,
            "flex": null,
            "flex_flow": null,
            "grid_area": null,
            "grid_auto_columns": null,
            "grid_auto_flow": null,
            "grid_auto_rows": null,
            "grid_column": null,
            "grid_gap": null,
            "grid_row": null,
            "grid_template_areas": null,
            "grid_template_columns": null,
            "grid_template_rows": null,
            "height": null,
            "justify_content": null,
            "justify_items": null,
            "left": null,
            "margin": null,
            "max_height": null,
            "max_width": null,
            "min_height": null,
            "min_width": null,
            "object_fit": null,
            "object_position": null,
            "order": null,
            "overflow": null,
            "overflow_x": null,
            "overflow_y": null,
            "padding": null,
            "right": null,
            "top": null,
            "visibility": null,
            "width": null
          }
        },
        "137f85d282c04b5b98a6dedcaa081869": {
          "model_module": "@jupyter-widgets/controls",
          "model_module_version": "1.5.0",
          "model_name": "DescriptionStyleModel",
          "state": {
            "_model_module": "@jupyter-widgets/controls",
            "_model_module_version": "1.5.0",
            "_model_name": "DescriptionStyleModel",
            "_view_count": null,
            "_view_module": "@jupyter-widgets/base",
            "_view_module_version": "1.2.0",
            "_view_name": "StyleView",
            "description_width": ""
          }
        },
        "229ac42085444f669a9809ac0192d3e0": {
          "model_module": "@jupyter-widgets/output",
          "model_module_version": "1.0.0",
          "model_name": "OutputModel",
          "state": {
            "_dom_classes": [],
            "_model_module": "@jupyter-widgets/output",
            "_model_module_version": "1.0.0",
            "_model_name": "OutputModel",
            "_view_count": null,
            "_view_module": "@jupyter-widgets/output",
            "_view_module_version": "1.0.0",
            "_view_name": "OutputView",
            "layout": "IPY_MODEL_413be8f2a78a4d6db5fa8e564e8fcfbe",
            "msg_id": "",
            "outputs": [
              {
                "name": "stdout",
                "output_type": "stream",
                "text": [
                  "z: [[-2.5  1.4 -3.6]]\n"
                ]
              },
              {
                "data": {
                  "image/png": "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\n",
                  "text/plain": "<Figure size 640x480 with 1 Axes>"
                },
                "metadata": {},
                "output_type": "display_data"
              }
            ]
          }
        },
        "23ee215785ea42f99c8a963fe14c39f2": {
          "model_module": "@jupyter-widgets/controls",
          "model_module_version": "1.5.0",
          "model_name": "HBoxModel",
          "state": {
            "_dom_classes": [],
            "_model_module": "@jupyter-widgets/controls",
            "_model_module_version": "1.5.0",
            "_model_name": "HBoxModel",
            "_view_count": null,
            "_view_module": "@jupyter-widgets/controls",
            "_view_module_version": "1.5.0",
            "_view_name": "HBoxView",
            "box_style": "",
            "children": [
              "IPY_MODEL_469bdd677b4d4fa7bef65238a493c2ed",
              "IPY_MODEL_25693d3bbc2b4f5eb8a5649388612480",
              "IPY_MODEL_a953b13ea6e94b35ac8c2d36919646cd"
            ],
            "layout": "IPY_MODEL_5ebe8b91169745eca86d23749afc1130"
          }
        },
        "25693d3bbc2b4f5eb8a5649388612480": {
          "model_module": "@jupyter-widgets/controls",
          "model_module_version": "1.5.0",
          "model_name": "FloatProgressModel",
          "state": {
            "_dom_classes": [],
            "_model_module": "@jupyter-widgets/controls",
            "_model_module_version": "1.5.0",
            "_model_name": "FloatProgressModel",
            "_view_count": null,
            "_view_module": "@jupyter-widgets/controls",
            "_view_module_version": "1.5.0",
            "_view_name": "ProgressView",
            "bar_style": "success",
            "description": "",
            "description_tooltip": null,
            "layout": "IPY_MODEL_3ae3eb6b6e304a2284203884dd63c495",
            "max": 600,
            "min": 0,
            "orientation": "horizontal",
            "style": "IPY_MODEL_7b97203e8fa94cd48c08bf4a9994a8aa",
            "value": 600
          }
        },
        "2cb8ae841b774488b351acc7db3553ed": {
          "model_module": "@jupyter-widgets/base",
          "model_module_version": "1.2.0",
          "model_name": "LayoutModel",
          "state": {
            "_model_module": "@jupyter-widgets/base",
            "_model_module_version": "1.2.0",
            "_model_name": "LayoutModel",
            "_view_count": null,
            "_view_module": "@jupyter-widgets/base",
            "_view_module_version": "1.2.0",
            "_view_name": "LayoutView",
            "align_content": null,
            "align_items": null,
            "align_self": null,
            "border": null,
            "bottom": null,
            "display": null,
            "flex": null,
            "flex_flow": null,
            "grid_area": null,
            "grid_auto_columns": null,
            "grid_auto_flow": null,
            "grid_auto_rows": null,
            "grid_column": null,
            "grid_gap": null,
            "grid_row": null,
            "grid_template_areas": null,
            "grid_template_columns": null,
            "grid_template_rows": null,
            "height": null,
            "justify_content": null,
            "justify_items": null,
            "left": null,
            "margin": null,
            "max_height": null,
            "max_width": null,
            "min_height": null,
            "min_width": null,
            "object_fit": null,
            "object_position": null,
            "order": null,
            "overflow": null,
            "overflow_x": null,
            "overflow_y": null,
            "padding": null,
            "right": null,
            "top": null,
            "visibility": null,
            "width": null
          }
        },
        "385cefad3ec44bbfa1bce686d66465fc": {
          "model_module": "@jupyter-widgets/controls",
          "model_module_version": "1.5.0",
          "model_name": "SliderStyleModel",
          "state": {
            "_model_module": "@jupyter-widgets/controls",
            "_model_module_version": "1.5.0",
            "_model_name": "SliderStyleModel",
            "_view_count": null,
            "_view_module": "@jupyter-widgets/base",
            "_view_module_version": "1.2.0",
            "_view_name": "StyleView",
            "description_width": "",
            "handle_color": null
          }
        },
        "3ae3eb6b6e304a2284203884dd63c495": {
          "model_module": "@jupyter-widgets/base",
          "model_module_version": "1.2.0",
          "model_name": "LayoutModel",
          "state": {
            "_model_module": "@jupyter-widgets/base",
            "_model_module_version": "1.2.0",
            "_model_name": "LayoutModel",
            "_view_count": null,
            "_view_module": "@jupyter-widgets/base",
            "_view_module_version": "1.2.0",
            "_view_name": "LayoutView",
            "align_content": null,
            "align_items": null,
            "align_self": null,
            "border": null,
            "bottom": null,
            "display": null,
            "flex": "2",
            "flex_flow": null,
            "grid_area": null,
            "grid_auto_columns": null,
            "grid_auto_flow": null,
            "grid_auto_rows": null,
            "grid_column": null,
            "grid_gap": null,
            "grid_row": null,
            "grid_template_areas": null,
            "grid_template_columns": null,
            "grid_template_rows": null,
            "height": null,
            "justify_content": null,
            "justify_items": null,
            "left": null,
            "margin": null,
            "max_height": null,
            "max_width": null,
            "min_height": null,
            "min_width": null,
            "object_fit": null,
            "object_position": null,
            "order": null,
            "overflow": null,
            "overflow_x": null,
            "overflow_y": null,
            "padding": null,
            "right": null,
            "top": null,
            "visibility": null,
            "width": null
          }
        },
        "3c2078b290ad43a8990ca7c018f25e2f": {
          "model_module": "@jupyter-widgets/controls",
          "model_module_version": "1.5.0",
          "model_name": "SliderStyleModel",
          "state": {
            "_model_module": "@jupyter-widgets/controls",
            "_model_module_version": "1.5.0",
            "_model_name": "SliderStyleModel",
            "_view_count": null,
            "_view_module": "@jupyter-widgets/base",
            "_view_module_version": "1.2.0",
            "_view_name": "StyleView",
            "description_width": "",
            "handle_color": null
          }
        },
        "3f18218ed84840619869b99741762fe0": {
          "model_module": "@jupyter-widgets/controls",
          "model_module_version": "1.5.0",
          "model_name": "FloatSliderModel",
          "state": {
            "_dom_classes": [],
            "_model_module": "@jupyter-widgets/controls",
            "_model_module_version": "1.5.0",
            "_model_name": "FloatSliderModel",
            "_view_count": null,
            "_view_module": "@jupyter-widgets/controls",
            "_view_module_version": "1.5.0",
            "_view_name": "FloatSliderView",
            "continuous_update": true,
            "description": "w",
            "description_tooltip": null,
            "disabled": false,
            "layout": "IPY_MODEL_c825d6b61eda4416a96af46fbff7885e",
            "max": 10,
            "min": -10,
            "orientation": "horizontal",
            "readout": true,
            "readout_format": ".2f",
            "step": 0.1,
            "style": "IPY_MODEL_3c2078b290ad43a8990ca7c018f25e2f",
            "value": -3.6
          }
        },
        "3f74e93402724e6bb4300c06bb0171ae": {
          "model_module": "@jupyter-widgets/base",
          "model_module_version": "1.2.0",
          "model_name": "LayoutModel",
          "state": {
            "_model_module": "@jupyter-widgets/base",
            "_model_module_version": "1.2.0",
            "_model_name": "LayoutModel",
            "_view_count": null,
            "_view_module": "@jupyter-widgets/base",
            "_view_module_version": "1.2.0",
            "_view_name": "LayoutView",
            "align_content": null,
            "align_items": null,
            "align_self": null,
            "border": null,
            "bottom": null,
            "display": null,
            "flex": null,
            "flex_flow": null,
            "grid_area": null,
            "grid_auto_columns": null,
            "grid_auto_flow": null,
            "grid_auto_rows": null,
            "grid_column": null,
            "grid_gap": null,
            "grid_row": null,
            "grid_template_areas": null,
            "grid_template_columns": null,
            "grid_template_rows": null,
            "height": null,
            "justify_content": null,
            "justify_items": null,
            "left": null,
            "margin": null,
            "max_height": null,
            "max_width": null,
            "min_height": null,
            "min_width": null,
            "object_fit": null,
            "object_position": null,
            "order": null,
            "overflow": null,
            "overflow_x": null,
            "overflow_y": null,
            "padding": null,
            "right": null,
            "top": null,
            "visibility": null,
            "width": null
          }
        },
        "413be8f2a78a4d6db5fa8e564e8fcfbe": {
          "model_module": "@jupyter-widgets/base",
          "model_module_version": "1.2.0",
          "model_name": "LayoutModel",
          "state": {
            "_model_module": "@jupyter-widgets/base",
            "_model_module_version": "1.2.0",
            "_model_name": "LayoutModel",
            "_view_count": null,
            "_view_module": "@jupyter-widgets/base",
            "_view_module_version": "1.2.0",
            "_view_name": "LayoutView",
            "align_content": null,
            "align_items": null,
            "align_self": null,
            "border": null,
            "bottom": null,
            "display": null,
            "flex": null,
            "flex_flow": null,
            "grid_area": null,
            "grid_auto_columns": null,
            "grid_auto_flow": null,
            "grid_auto_rows": null,
            "grid_column": null,
            "grid_gap": null,
            "grid_row": null,
            "grid_template_areas": null,
            "grid_template_columns": null,
            "grid_template_rows": null,
            "height": null,
            "justify_content": null,
            "justify_items": null,
            "left": null,
            "margin": null,
            "max_height": null,
            "max_width": null,
            "min_height": null,
            "min_width": null,
            "object_fit": null,
            "object_position": null,
            "order": null,
            "overflow": null,
            "overflow_x": null,
            "overflow_y": null,
            "padding": null,
            "right": null,
            "top": null,
            "visibility": null,
            "width": null
          }
        },
        "43e6c62855cf48fc8da6a6525a24321a": {
          "model_module": "@jupyter-widgets/base",
          "model_module_version": "1.2.0",
          "model_name": "LayoutModel",
          "state": {
            "_model_module": "@jupyter-widgets/base",
            "_model_module_version": "1.2.0",
            "_model_name": "LayoutModel",
            "_view_count": null,
            "_view_module": "@jupyter-widgets/base",
            "_view_module_version": "1.2.0",
            "_view_name": "LayoutView",
            "align_content": null,
            "align_items": null,
            "align_self": null,
            "border": null,
            "bottom": null,
            "display": null,
            "flex": null,
            "flex_flow": null,
            "grid_area": null,
            "grid_auto_columns": null,
            "grid_auto_flow": null,
            "grid_auto_rows": null,
            "grid_column": null,
            "grid_gap": null,
            "grid_row": null,
            "grid_template_areas": null,
            "grid_template_columns": null,
            "grid_template_rows": null,
            "height": null,
            "justify_content": null,
            "justify_items": null,
            "left": null,
            "margin": null,
            "max_height": null,
            "max_width": null,
            "min_height": null,
            "min_width": null,
            "object_fit": null,
            "object_position": null,
            "order": null,
            "overflow": null,
            "overflow_x": null,
            "overflow_y": null,
            "padding": null,
            "right": null,
            "top": null,
            "visibility": null,
            "width": null
          }
        },
        "469bdd677b4d4fa7bef65238a493c2ed": {
          "model_module": "@jupyter-widgets/controls",
          "model_module_version": "1.5.0",
          "model_name": "HTMLModel",
          "state": {
            "_dom_classes": [],
            "_model_module": "@jupyter-widgets/controls",
            "_model_module_version": "1.5.0",
            "_model_name": "HTMLModel",
            "_view_count": null,
            "_view_module": "@jupyter-widgets/controls",
            "_view_module_version": "1.5.0",
            "_view_name": "HTMLView",
            "description": "",
            "description_tooltip": null,
            "layout": "IPY_MODEL_f98dfb66ce3a40d4a012037bee4fe262",
            "placeholder": "​",
            "style": "IPY_MODEL_137f85d282c04b5b98a6dedcaa081869",
            "value": "Epoch 19: 100%"
          }
        },
        "489d41e7ba574387bc12f3d5cb0bfc91": {
          "model_module": "@jupyter-widgets/base",
          "model_module_version": "1.2.0",
          "model_name": "LayoutModel",
          "state": {
            "_model_module": "@jupyter-widgets/base",
            "_model_module_version": "1.2.0",
            "_model_name": "LayoutModel",
            "_view_count": null,
            "_view_module": "@jupyter-widgets/base",
            "_view_module_version": "1.2.0",
            "_view_name": "LayoutView",
            "align_content": null,
            "align_items": null,
            "align_self": null,
            "border": null,
            "bottom": null,
            "display": null,
            "flex": null,
            "flex_flow": null,
            "grid_area": null,
            "grid_auto_columns": null,
            "grid_auto_flow": null,
            "grid_auto_rows": null,
            "grid_column": null,
            "grid_gap": null,
            "grid_row": null,
            "grid_template_areas": null,
            "grid_template_columns": null,
            "grid_template_rows": null,
            "height": null,
            "justify_content": null,
            "justify_items": null,
            "left": null,
            "margin": null,
            "max_height": null,
            "max_width": null,
            "min_height": null,
            "min_width": null,
            "object_fit": null,
            "object_position": null,
            "order": null,
            "overflow": null,
            "overflow_x": null,
            "overflow_y": null,
            "padding": null,
            "right": null,
            "top": null,
            "visibility": null,
            "width": null
          }
        },
        "5ebe8b91169745eca86d23749afc1130": {
          "model_module": "@jupyter-widgets/base",
          "model_module_version": "1.2.0",
          "model_name": "LayoutModel",
          "state": {
            "_model_module": "@jupyter-widgets/base",
            "_model_module_version": "1.2.0",
            "_model_name": "LayoutModel",
            "_view_count": null,
            "_view_module": "@jupyter-widgets/base",
            "_view_module_version": "1.2.0",
            "_view_name": "LayoutView",
            "align_content": null,
            "align_items": null,
            "align_self": null,
            "border": null,
            "bottom": null,
            "display": "inline-flex",
            "flex": null,
            "flex_flow": "row wrap",
            "grid_area": null,
            "grid_auto_columns": null,
            "grid_auto_flow": null,
            "grid_auto_rows": null,
            "grid_column": null,
            "grid_gap": null,
            "grid_row": null,
            "grid_template_areas": null,
            "grid_template_columns": null,
            "grid_template_rows": null,
            "height": null,
            "justify_content": null,
            "justify_items": null,
            "left": null,
            "margin": null,
            "max_height": null,
            "max_width": null,
            "min_height": null,
            "min_width": null,
            "object_fit": null,
            "object_position": null,
            "order": null,
            "overflow": null,
            "overflow_x": null,
            "overflow_y": null,
            "padding": null,
            "right": null,
            "top": null,
            "visibility": null,
            "width": "100%"
          }
        },
        "5f97ac9bba304b24a89eaee8b0a7a4a2": {
          "model_module": "@jupyter-widgets/controls",
          "model_module_version": "1.5.0",
          "model_name": "SliderStyleModel",
          "state": {
            "_model_module": "@jupyter-widgets/controls",
            "_model_module_version": "1.5.0",
            "_model_name": "SliderStyleModel",
            "_view_count": null,
            "_view_module": "@jupyter-widgets/base",
            "_view_module_version": "1.2.0",
            "_view_name": "StyleView",
            "description_width": "",
            "handle_color": null
          }
        },
        "6102f9018c3e4e5d8e1e25f4a7c64f70": {
          "model_module": "@jupyter-widgets/controls",
          "model_module_version": "1.5.0",
          "model_name": "VBoxModel",
          "state": {
            "_dom_classes": [
              "widget-interact"
            ],
            "_model_module": "@jupyter-widgets/controls",
            "_model_module_version": "1.5.0",
            "_model_name": "VBoxModel",
            "_view_count": null,
            "_view_module": "@jupyter-widgets/controls",
            "_view_module_version": "1.5.0",
            "_view_name": "VBoxView",
            "box_style": "",
            "children": [
              "IPY_MODEL_ba8c9d532b6d4f0197ba31bd92eb4bd6",
              "IPY_MODEL_7f6d840a3bc049069d7a6945fad10989"
            ],
            "layout": "IPY_MODEL_0e4bfcb8cc6c41a0bfa817017aba64ba"
          }
        },
        "621e05b70b2b4d33a8246f86e661729d": {
          "model_module": "@jupyter-widgets/base",
          "model_module_version": "1.2.0",
          "model_name": "LayoutModel",
          "state": {
            "_model_module": "@jupyter-widgets/base",
            "_model_module_version": "1.2.0",
            "_model_name": "LayoutModel",
            "_view_count": null,
            "_view_module": "@jupyter-widgets/base",
            "_view_module_version": "1.2.0",
            "_view_name": "LayoutView",
            "align_content": null,
            "align_items": null,
            "align_self": null,
            "border": null,
            "bottom": null,
            "display": null,
            "flex": null,
            "flex_flow": null,
            "grid_area": null,
            "grid_auto_columns": null,
            "grid_auto_flow": null,
            "grid_auto_rows": null,
            "grid_column": null,
            "grid_gap": null,
            "grid_row": null,
            "grid_template_areas": null,
            "grid_template_columns": null,
            "grid_template_rows": null,
            "height": null,
            "justify_content": null,
            "justify_items": null,
            "left": null,
            "margin": null,
            "max_height": null,
            "max_width": null,
            "min_height": null,
            "min_width": null,
            "object_fit": null,
            "object_position": null,
            "order": null,
            "overflow": null,
            "overflow_x": null,
            "overflow_y": null,
            "padding": null,
            "right": null,
            "top": null,
            "visibility": null,
            "width": null
          }
        },
        "7b97203e8fa94cd48c08bf4a9994a8aa": {
          "model_module": "@jupyter-widgets/controls",
          "model_module_version": "1.5.0",
          "model_name": "ProgressStyleModel",
          "state": {
            "_model_module": "@jupyter-widgets/controls",
            "_model_module_version": "1.5.0",
            "_model_name": "ProgressStyleModel",
            "_view_count": null,
            "_view_module": "@jupyter-widgets/base",
            "_view_module_version": "1.2.0",
            "_view_name": "StyleView",
            "bar_color": null,
            "description_width": ""
          }
        },
        "7f6d840a3bc049069d7a6945fad10989": {
          "model_module": "@jupyter-widgets/output",
          "model_module_version": "1.0.0",
          "model_name": "OutputModel",
          "state": {
            "_dom_classes": [],
            "_model_module": "@jupyter-widgets/output",
            "_model_module_version": "1.0.0",
            "_model_name": "OutputModel",
            "_view_count": null,
            "_view_module": "@jupyter-widgets/output",
            "_view_module_version": "1.0.0",
            "_view_name": "OutputView",
            "layout": "IPY_MODEL_9d94e35c356c4549bcaee3ea21b1f798",
            "msg_id": "",
            "outputs": [
              {
                "name": "stdout",
                "output_type": "stream",
                "text": [
                  "GT label: 5\n"
                ]
              },
              {
                "data": {
                  "image/png": "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\n",
                  "text/plain": "<Figure size 640x480 with 2 Axes>"
                },
                "metadata": {},
                "output_type": "display_data"
              }
            ]
          }
        },
        "8bf36d84fc154a6d9fdaa2fbbb7f4d32": {
          "model_module": "@jupyter-widgets/controls",
          "model_module_version": "1.5.0",
          "model_name": "IntSliderModel",
          "state": {
            "_dom_classes": [],
            "_model_module": "@jupyter-widgets/controls",
            "_model_module_version": "1.5.0",
            "_model_name": "IntSliderModel",
            "_view_count": null,
            "_view_module": "@jupyter-widgets/controls",
            "_view_module_version": "1.5.0",
            "_view_name": "IntSliderView",
            "continuous_update": false,
            "description": "idx",
            "description_tooltip": null,
            "disabled": false,
            "layout": "IPY_MODEL_2cb8ae841b774488b351acc7db3553ed",
            "max": 59999,
            "min": 0,
            "orientation": "horizontal",
            "readout": true,
            "readout_format": "d",
            "step": 1,
            "style": "IPY_MODEL_5f97ac9bba304b24a89eaee8b0a7a4a2",
            "value": 0
          }
        },
        "9d94e35c356c4549bcaee3ea21b1f798": {
          "model_module": "@jupyter-widgets/base",
          "model_module_version": "1.2.0",
          "model_name": "LayoutModel",
          "state": {
            "_model_module": "@jupyter-widgets/base",
            "_model_module_version": "1.2.0",
            "_model_name": "LayoutModel",
            "_view_count": null,
            "_view_module": "@jupyter-widgets/base",
            "_view_module_version": "1.2.0",
            "_view_name": "LayoutView",
            "align_content": null,
            "align_items": null,
            "align_self": null,
            "border": null,
            "bottom": null,
            "display": null,
            "flex": null,
            "flex_flow": null,
            "grid_area": null,
            "grid_auto_columns": null,
            "grid_auto_flow": null,
            "grid_auto_rows": null,
            "grid_column": null,
            "grid_gap": null,
            "grid_row": null,
            "grid_template_areas": null,
            "grid_template_columns": null,
            "grid_template_rows": null,
            "height": null,
            "justify_content": null,
            "justify_items": null,
            "left": null,
            "margin": null,
            "max_height": null,
            "max_width": null,
            "min_height": null,
            "min_width": null,
            "object_fit": null,
            "object_position": null,
            "order": null,
            "overflow": null,
            "overflow_x": null,
            "overflow_y": null,
            "padding": null,
            "right": null,
            "top": null,
            "visibility": null,
            "width": null
          }
        },
        "a7a3db0e5e4b4a39a3abddd44a0b90dc": {
          "model_module": "@jupyter-widgets/base",
          "model_module_version": "1.2.0",
          "model_name": "LayoutModel",
          "state": {
            "_model_module": "@jupyter-widgets/base",
            "_model_module_version": "1.2.0",
            "_model_name": "LayoutModel",
            "_view_count": null,
            "_view_module": "@jupyter-widgets/base",
            "_view_module_version": "1.2.0",
            "_view_name": "LayoutView",
            "align_content": null,
            "align_items": null,
            "align_self": null,
            "border": null,
            "bottom": null,
            "display": null,
            "flex": null,
            "flex_flow": null,
            "grid_area": null,
            "grid_auto_columns": null,
            "grid_auto_flow": null,
            "grid_auto_rows": null,
            "grid_column": null,
            "grid_gap": null,
            "grid_row": null,
            "grid_template_areas": null,
            "grid_template_columns": null,
            "grid_template_rows": null,
            "height": null,
            "justify_content": null,
            "justify_items": null,
            "left": null,
            "margin": null,
            "max_height": null,
            "max_width": null,
            "min_height": null,
            "min_width": null,
            "object_fit": null,
            "object_position": null,
            "order": null,
            "overflow": null,
            "overflow_x": null,
            "overflow_y": null,
            "padding": null,
            "right": null,
            "top": null,
            "visibility": null,
            "width": null
          }
        },
        "a7d91e8f06c8470fb286cb5548c1636f": {
          "model_module": "@jupyter-widgets/controls",
          "model_module_version": "1.5.0",
          "model_name": "SliderStyleModel",
          "state": {
            "_model_module": "@jupyter-widgets/controls",
            "_model_module_version": "1.5.0",
            "_model_name": "SliderStyleModel",
            "_view_count": null,
            "_view_module": "@jupyter-widgets/base",
            "_view_module_version": "1.2.0",
            "_view_name": "StyleView",
            "description_width": "",
            "handle_color": null
          }
        },
        "a953b13ea6e94b35ac8c2d36919646cd": {
          "model_module": "@jupyter-widgets/controls",
          "model_module_version": "1.5.0",
          "model_name": "HTMLModel",
          "state": {
            "_dom_classes": [],
            "_model_module": "@jupyter-widgets/controls",
            "_model_module_version": "1.5.0",
            "_model_name": "HTMLModel",
            "_view_count": null,
            "_view_module": "@jupyter-widgets/controls",
            "_view_module_version": "1.5.0",
            "_view_name": "HTMLView",
            "description": "",
            "description_tooltip": null,
            "layout": "IPY_MODEL_e33def3ea46d4480b8c4afd1b0810087",
            "placeholder": "​",
            "style": "IPY_MODEL_dcb0167becc947aa8740abca37c9343f",
            "value": " 600/600 [00:08&lt;00:00, 68.40it/s, v_num=22]"
          }
        },
        "add053db4a814643bf1059dded073fa2": {
          "model_module": "@jupyter-widgets/controls",
          "model_module_version": "1.5.0",
          "model_name": "VBoxModel",
          "state": {
            "_dom_classes": [],
            "_model_module": "@jupyter-widgets/controls",
            "_model_module_version": "1.5.0",
            "_model_name": "VBoxModel",
            "_view_count": null,
            "_view_module": "@jupyter-widgets/controls",
            "_view_module_version": "1.5.0",
            "_view_name": "VBoxView",
            "box_style": "",
            "children": [
              "IPY_MODEL_060b462b05d2428a82df54fe92eff6cf",
              "IPY_MODEL_e369de7460494ce3a09c15ed6fae94e7",
              "IPY_MODEL_3f18218ed84840619869b99741762fe0"
            ],
            "layout": "IPY_MODEL_43e6c62855cf48fc8da6a6525a24321a"
          }
        },
        "ba8c9d532b6d4f0197ba31bd92eb4bd6": {
          "model_module": "@jupyter-widgets/controls",
          "model_module_version": "1.5.0",
          "model_name": "IntSliderModel",
          "state": {
            "_dom_classes": [],
            "_model_module": "@jupyter-widgets/controls",
            "_model_module_version": "1.5.0",
            "_model_name": "IntSliderModel",
            "_view_count": null,
            "_view_module": "@jupyter-widgets/controls",
            "_view_module_version": "1.5.0",
            "_view_name": "IntSliderView",
            "continuous_update": false,
            "description": "idx",
            "description_tooltip": null,
            "disabled": false,
            "layout": "IPY_MODEL_d00102f594aa4363a9f299e5353d3e8e",
            "max": 59999,
            "min": 0,
            "orientation": "horizontal",
            "readout": true,
            "readout_format": "d",
            "step": 1,
            "style": "IPY_MODEL_385cefad3ec44bbfa1bce686d66465fc",
            "value": 0
          }
        },
        "c825d6b61eda4416a96af46fbff7885e": {
          "model_module": "@jupyter-widgets/base",
          "model_module_version": "1.2.0",
          "model_name": "LayoutModel",
          "state": {
            "_model_module": "@jupyter-widgets/base",
            "_model_module_version": "1.2.0",
            "_model_name": "LayoutModel",
            "_view_count": null,
            "_view_module": "@jupyter-widgets/base",
            "_view_module_version": "1.2.0",
            "_view_name": "LayoutView",
            "align_content": null,
            "align_items": null,
            "align_self": null,
            "border": null,
            "bottom": null,
            "display": null,
            "flex": null,
            "flex_flow": null,
            "grid_area": null,
            "grid_auto_columns": null,
            "grid_auto_flow": null,
            "grid_auto_rows": null,
            "grid_column": null,
            "grid_gap": null,
            "grid_row": null,
            "grid_template_areas": null,
            "grid_template_columns": null,
            "grid_template_rows": null,
            "height": null,
            "justify_content": null,
            "justify_items": null,
            "left": null,
            "margin": null,
            "max_height": null,
            "max_width": null,
            "min_height": null,
            "min_width": null,
            "object_fit": null,
            "object_position": null,
            "order": null,
            "overflow": null,
            "overflow_x": null,
            "overflow_y": null,
            "padding": null,
            "right": null,
            "top": null,
            "visibility": null,
            "width": null
          }
        },
        "d00102f594aa4363a9f299e5353d3e8e": {
          "model_module": "@jupyter-widgets/base",
          "model_module_version": "1.2.0",
          "model_name": "LayoutModel",
          "state": {
            "_model_module": "@jupyter-widgets/base",
            "_model_module_version": "1.2.0",
            "_model_name": "LayoutModel",
            "_view_count": null,
            "_view_module": "@jupyter-widgets/base",
            "_view_module_version": "1.2.0",
            "_view_name": "LayoutView",
            "align_content": null,
            "align_items": null,
            "align_self": null,
            "border": null,
            "bottom": null,
            "display": null,
            "flex": null,
            "flex_flow": null,
            "grid_area": null,
            "grid_auto_columns": null,
            "grid_auto_flow": null,
            "grid_auto_rows": null,
            "grid_column": null,
            "grid_gap": null,
            "grid_row": null,
            "grid_template_areas": null,
            "grid_template_columns": null,
            "grid_template_rows": null,
            "height": null,
            "justify_content": null,
            "justify_items": null,
            "left": null,
            "margin": null,
            "max_height": null,
            "max_width": null,
            "min_height": null,
            "min_width": null,
            "object_fit": null,
            "object_position": null,
            "order": null,
            "overflow": null,
            "overflow_x": null,
            "overflow_y": null,
            "padding": null,
            "right": null,
            "top": null,
            "visibility": null,
            "width": null
          }
        },
        "d9323c6a389a4aa38be0b667e9260ff4": {
          "model_module": "@jupyter-widgets/output",
          "model_module_version": "1.0.0",
          "model_name": "OutputModel",
          "state": {
            "_dom_classes": [],
            "_model_module": "@jupyter-widgets/output",
            "_model_module_version": "1.0.0",
            "_model_name": "OutputModel",
            "_view_count": null,
            "_view_module": "@jupyter-widgets/output",
            "_view_module_version": "1.0.0",
            "_view_name": "OutputView",
            "layout": "IPY_MODEL_3f74e93402724e6bb4300c06bb0171ae",
            "msg_id": "",
            "outputs": [
              {
                "name": "stdout",
                "output_type": "stream",
                "text": [
                  "GT label: 5\n"
                ]
              },
              {
                "data": {
                  "image/png": "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\n",
                  "text/plain": "<Figure size 640x480 with 2 Axes>"
                },
                "metadata": {},
                "output_type": "display_data"
              }
            ]
          }
        },
        "dcb0167becc947aa8740abca37c9343f": {
          "model_module": "@jupyter-widgets/controls",
          "model_module_version": "1.5.0",
          "model_name": "DescriptionStyleModel",
          "state": {
            "_model_module": "@jupyter-widgets/controls",
            "_model_module_version": "1.5.0",
            "_model_name": "DescriptionStyleModel",
            "_view_count": null,
            "_view_module": "@jupyter-widgets/base",
            "_view_module_version": "1.2.0",
            "_view_name": "StyleView",
            "description_width": ""
          }
        },
        "e08d86bd63424df6b2aa62cd17cfe532": {
          "model_module": "@jupyter-widgets/controls",
          "model_module_version": "1.5.0",
          "model_name": "SliderStyleModel",
          "state": {
            "_model_module": "@jupyter-widgets/controls",
            "_model_module_version": "1.5.0",
            "_model_name": "SliderStyleModel",
            "_view_count": null,
            "_view_module": "@jupyter-widgets/base",
            "_view_module_version": "1.2.0",
            "_view_name": "StyleView",
            "description_width": "",
            "handle_color": null
          }
        },
        "e33def3ea46d4480b8c4afd1b0810087": {
          "model_module": "@jupyter-widgets/base",
          "model_module_version": "1.2.0",
          "model_name": "LayoutModel",
          "state": {
            "_model_module": "@jupyter-widgets/base",
            "_model_module_version": "1.2.0",
            "_model_name": "LayoutModel",
            "_view_count": null,
            "_view_module": "@jupyter-widgets/base",
            "_view_module_version": "1.2.0",
            "_view_name": "LayoutView",
            "align_content": null,
            "align_items": null,
            "align_self": null,
            "border": null,
            "bottom": null,
            "display": null,
            "flex": null,
            "flex_flow": null,
            "grid_area": null,
            "grid_auto_columns": null,
            "grid_auto_flow": null,
            "grid_auto_rows": null,
            "grid_column": null,
            "grid_gap": null,
            "grid_row": null,
            "grid_template_areas": null,
            "grid_template_columns": null,
            "grid_template_rows": null,
            "height": null,
            "justify_content": null,
            "justify_items": null,
            "left": null,
            "margin": null,
            "max_height": null,
            "max_width": null,
            "min_height": null,
            "min_width": null,
            "object_fit": null,
            "object_position": null,
            "order": null,
            "overflow": null,
            "overflow_x": null,
            "overflow_y": null,
            "padding": null,
            "right": null,
            "top": null,
            "visibility": null,
            "width": null
          }
        },
        "e369de7460494ce3a09c15ed6fae94e7": {
          "model_module": "@jupyter-widgets/controls",
          "model_module_version": "1.5.0",
          "model_name": "FloatSliderModel",
          "state": {
            "_dom_classes": [],
            "_model_module": "@jupyter-widgets/controls",
            "_model_module_version": "1.5.0",
            "_model_name": "FloatSliderModel",
            "_view_count": null,
            "_view_module": "@jupyter-widgets/controls",
            "_view_module_version": "1.5.0",
            "_view_name": "FloatSliderView",
            "continuous_update": true,
            "description": "v",
            "description_tooltip": null,
            "disabled": false,
            "layout": "IPY_MODEL_621e05b70b2b4d33a8246f86e661729d",
            "max": 10,
            "min": -10,
            "orientation": "horizontal",
            "readout": true,
            "readout_format": ".2f",
            "step": 0.1,
            "style": "IPY_MODEL_a7d91e8f06c8470fb286cb5548c1636f",
            "value": 1.4
          }
        },
        "f98dfb66ce3a40d4a012037bee4fe262": {
          "model_module": "@jupyter-widgets/base",
          "model_module_version": "1.2.0",
          "model_name": "LayoutModel",
          "state": {
            "_model_module": "@jupyter-widgets/base",
            "_model_module_version": "1.2.0",
            "_model_name": "LayoutModel",
            "_view_count": null,
            "_view_module": "@jupyter-widgets/base",
            "_view_module_version": "1.2.0",
            "_view_name": "LayoutView",
            "align_content": null,
            "align_items": null,
            "align_self": null,
            "border": null,
            "bottom": null,
            "display": null,
            "flex": null,
            "flex_flow": null,
            "grid_area": null,
            "grid_auto_columns": null,
            "grid_auto_flow": null,
            "grid_auto_rows": null,
            "grid_column": null,
            "grid_gap": null,
            "grid_row": null,
            "grid_template_areas": null,
            "grid_template_columns": null,
            "grid_template_rows": null,
            "height": null,
            "justify_content": null,
            "justify_items": null,
            "left": null,
            "margin": null,
            "max_height": null,
            "max_width": null,
            "min_height": null,
            "min_width": null,
            "object_fit": null,
            "object_position": null,
            "order": null,
            "overflow": null,
            "overflow_x": null,
            "overflow_y": null,
            "padding": null,
            "right": null,
            "top": null,
            "visibility": null,
            "width": null
          }
        }
      }
    }
  },
  "nbformat": 4,
  "nbformat_minor": 0
}
